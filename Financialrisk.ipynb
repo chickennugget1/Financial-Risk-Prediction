{
 "cells": [
  {
   "cell_type": "markdown",
   "metadata": {},
   "source": [
    "## Importing libraries "
   ]
  },
  {
   "cell_type": "code",
   "execution_count": 1,
   "metadata": {},
   "outputs": [],
   "source": [
    "import numpy as np\n",
    "import matplotlib.pyplot as plt\n",
    "import pandas as pd\n",
    "import seaborn as sns\n",
    "import warnings\n",
    "warnings.filterwarnings(\"ignore\")"
   ]
  },
  {
   "cell_type": "markdown",
   "metadata": {},
   "source": [
    "## Reading csv"
   ]
  },
  {
   "cell_type": "code",
   "execution_count": 2,
   "metadata": {},
   "outputs": [],
   "source": [
    "train=pd.read_csv(\"Train.csv\")\n",
    "test=pd.read_csv(\"Test.csv\")"
   ]
  },
  {
   "cell_type": "code",
   "execution_count": 3,
   "metadata": {},
   "outputs": [
    {
     "data": {
      "text/html": [
       "<div>\n",
       "<style scoped>\n",
       "    .dataframe tbody tr th:only-of-type {\n",
       "        vertical-align: middle;\n",
       "    }\n",
       "\n",
       "    .dataframe tbody tr th {\n",
       "        vertical-align: top;\n",
       "    }\n",
       "\n",
       "    .dataframe thead th {\n",
       "        text-align: right;\n",
       "    }\n",
       "</style>\n",
       "<table border=\"1\" class=\"dataframe\">\n",
       "  <thead>\n",
       "    <tr style=\"text-align: right;\">\n",
       "      <th></th>\n",
       "      <th>City</th>\n",
       "      <th>Location_Score</th>\n",
       "      <th>Internal_Audit_Score</th>\n",
       "      <th>External_Audit_Score</th>\n",
       "      <th>Fin_Score</th>\n",
       "      <th>Loss_score</th>\n",
       "      <th>Past_Results</th>\n",
       "      <th>IsUnderRisk</th>\n",
       "    </tr>\n",
       "  </thead>\n",
       "  <tbody>\n",
       "    <tr>\n",
       "      <th>0</th>\n",
       "      <td>2</td>\n",
       "      <td>8.032</td>\n",
       "      <td>14</td>\n",
       "      <td>8</td>\n",
       "      <td>3</td>\n",
       "      <td>6</td>\n",
       "      <td>0</td>\n",
       "      <td>1</td>\n",
       "    </tr>\n",
       "    <tr>\n",
       "      <th>1</th>\n",
       "      <td>31</td>\n",
       "      <td>77.730</td>\n",
       "      <td>8</td>\n",
       "      <td>3</td>\n",
       "      <td>3</td>\n",
       "      <td>8</td>\n",
       "      <td>1</td>\n",
       "      <td>0</td>\n",
       "    </tr>\n",
       "  </tbody>\n",
       "</table>\n",
       "</div>"
      ],
      "text/plain": [
       "   City  Location_Score  Internal_Audit_Score  External_Audit_Score  \\\n",
       "0     2           8.032                    14                     8   \n",
       "1    31          77.730                     8                     3   \n",
       "\n",
       "   Fin_Score  Loss_score  Past_Results  IsUnderRisk  \n",
       "0          3           6             0            1  \n",
       "1          3           8             1            0  "
      ]
     },
     "execution_count": 3,
     "metadata": {},
     "output_type": "execute_result"
    }
   ],
   "source": [
    "train.head(2)"
   ]
  },
  {
   "cell_type": "code",
   "execution_count": 4,
   "metadata": {},
   "outputs": [
    {
     "data": {
      "text/html": [
       "<div>\n",
       "<style scoped>\n",
       "    .dataframe tbody tr th:only-of-type {\n",
       "        vertical-align: middle;\n",
       "    }\n",
       "\n",
       "    .dataframe tbody tr th {\n",
       "        vertical-align: top;\n",
       "    }\n",
       "\n",
       "    .dataframe thead th {\n",
       "        text-align: right;\n",
       "    }\n",
       "</style>\n",
       "<table border=\"1\" class=\"dataframe\">\n",
       "  <thead>\n",
       "    <tr style=\"text-align: right;\">\n",
       "      <th></th>\n",
       "      <th>City</th>\n",
       "      <th>Location_Score</th>\n",
       "      <th>Internal_Audit_Score</th>\n",
       "      <th>External_Audit_Score</th>\n",
       "      <th>Fin_Score</th>\n",
       "      <th>Loss_score</th>\n",
       "      <th>Past_Results</th>\n",
       "    </tr>\n",
       "  </thead>\n",
       "  <tbody>\n",
       "    <tr>\n",
       "      <th>0</th>\n",
       "      <td>41</td>\n",
       "      <td>18.272</td>\n",
       "      <td>13</td>\n",
       "      <td>12</td>\n",
       "      <td>9</td>\n",
       "      <td>7</td>\n",
       "      <td>0</td>\n",
       "    </tr>\n",
       "    <tr>\n",
       "      <th>1</th>\n",
       "      <td>17</td>\n",
       "      <td>64.799</td>\n",
       "      <td>6</td>\n",
       "      <td>10</td>\n",
       "      <td>7</td>\n",
       "      <td>4</td>\n",
       "      <td>1</td>\n",
       "    </tr>\n",
       "  </tbody>\n",
       "</table>\n",
       "</div>"
      ],
      "text/plain": [
       "   City  Location_Score  Internal_Audit_Score  External_Audit_Score  \\\n",
       "0    41          18.272                    13                    12   \n",
       "1    17          64.799                     6                    10   \n",
       "\n",
       "   Fin_Score  Loss_score  Past_Results  \n",
       "0          9           7             0  \n",
       "1          7           4             1  "
      ]
     },
     "execution_count": 4,
     "metadata": {},
     "output_type": "execute_result"
    }
   ],
   "source": [
    "test.head(2)"
   ]
  },
  {
   "cell_type": "markdown",
   "metadata": {},
   "source": [
    "## Visualising features"
   ]
  },
  {
   "cell_type": "code",
   "execution_count": 5,
   "metadata": {},
   "outputs": [
    {
     "data": {
      "text/plain": [
       "<matplotlib.axes._subplots.AxesSubplot at 0x7f05108f7b00>"
      ]
     },
     "execution_count": 5,
     "metadata": {},
     "output_type": "execute_result"
    },
    {
     "data": {
      "image/png": "[encoded data removed]",
      "text/plain": [
       "<Figure size 432x288 with 1 Axes>"
      ]
     },
     "metadata": {
      "needs_background": "light"
     },
     "output_type": "display_data"
    }
   ],
   "source": [
    "sns.countplot(train[\"Fin_Score\"])"
   ]
  },
  {
   "cell_type": "markdown",
   "metadata": {},
   "source": [
    "\"I observed that for every value of Fin_Score above 8, the value of IsUnderRisk is 1. This is proved below. Similarly other features showed the same trend as well.\""
   ]
  },
  {
   "cell_type": "code",
   "execution_count": 8,
   "metadata": {},
   "outputs": [
    {
     "data": {
      "text/plain": [
       "True"
      ]
     },
     "execution_count": 8,
     "metadata": {},
     "output_type": "execute_result"
    }
   ],
   "source": [
    "train.query('Fin_Score>8')[\"IsUnderRisk\"].all()==1  "
   ]
  },
  {
   "cell_type": "code",
   "execution_count": 9,
   "metadata": {},
   "outputs": [
    {
     "data": {
      "text/plain": [
       "<matplotlib.axes._subplots.AxesSubplot at 0x7f050e1af438>"
      ]
     },
     "execution_count": 9,
     "metadata": {},
     "output_type": "execute_result"
    },
    {
     "data": {
      "image/png": "[encoded data removed]",
      "text/plain": [
       "<Figure size 432x288 with 1 Axes>"
      ]
     },
     "metadata": {
      "needs_background": "light"
     },
     "output_type": "display_data"
    }
   ],
   "source": [
    "sns.countplot(train[\"Loss_score\"])"
   ]
  },
  {
   "cell_type": "code",
   "execution_count": 10,
   "metadata": {},
   "outputs": [
    {
     "data": {
      "text/plain": [
       "True"
      ]
     },
     "execution_count": 10,
     "metadata": {},
     "output_type": "execute_result"
    }
   ],
   "source": [
    "train.query('Loss_score>8')[\"IsUnderRisk\"].all()==1"
   ]
  },
  {
   "cell_type": "code",
   "execution_count": 11,
   "metadata": {},
   "outputs": [
    {
     "data": {
      "text/plain": [
       "<matplotlib.axes._subplots.AxesSubplot at 0x7f050e12c550>"
      ]
     },
     "execution_count": 11,
     "metadata": {},
     "output_type": "execute_result"
    },
    {
     "data": {
      "image/png": "[encoded data removed]",
      "text/plain": [
       "<Figure size 432x288 with 1 Axes>"
      ]
     },
     "metadata": {
      "needs_background": "light"
     },
     "output_type": "display_data"
    }
   ],
   "source": [
    "sns.countplot(train[\"Internal_Audit_Score\"])"
   ]
  },
  {
   "cell_type": "code",
   "execution_count": 12,
   "metadata": {},
   "outputs": [
    {
     "data": {
      "text/plain": [
       "True"
      ]
     },
     "execution_count": 12,
     "metadata": {},
     "output_type": "execute_result"
    }
   ],
   "source": [
    "train.query('Internal_Audit_Score>8')[\"IsUnderRisk\"].all()==1"
   ]
  },
  {
   "cell_type": "code",
   "execution_count": 13,
   "metadata": {},
   "outputs": [
    {
     "data": {
      "text/plain": [
       "<matplotlib.axes._subplots.AxesSubplot at 0x7f050e0aba90>"
      ]
     },
     "execution_count": 13,
     "metadata": {},
     "output_type": "execute_result"
    },
    {
     "data": {
      "image/png": "[encoded data removed]",
      "text/plain": [
       "<Figure size 432x288 with 1 Axes>"
      ]
     },
     "metadata": {
      "needs_background": "light"
     },
     "output_type": "display_data"
    }
   ],
   "source": [
    "sns.countplot(train[\"External_Audit_Score\"])"
   ]
  },
  {
   "cell_type": "code",
   "execution_count": 14,
   "metadata": {},
   "outputs": [
    {
     "data": {
      "text/plain": [
       "True"
      ]
     },
     "execution_count": 14,
     "metadata": {},
     "output_type": "execute_result"
    }
   ],
   "source": [
    "train.query('External_Audit_Score>8')[\"IsUnderRisk\"].all()==1"
   ]
  },
  {
   "cell_type": "code",
   "execution_count": 15,
   "metadata": {},
   "outputs": [
    {
     "data": {
      "text/plain": [
       "<matplotlib.axes._subplots.AxesSubplot at 0x7f050e03c668>"
      ]
     },
     "execution_count": 15,
     "metadata": {},
     "output_type": "execute_result"
    },
    {
     "data": {
      "image/png": "[encoded data removed]",
      "text/plain": [
       "<Figure size 432x288 with 1 Axes>"
      ]
     },
     "metadata": {
      "needs_background": "light"
     },
     "output_type": "display_data"
    }
   ],
   "source": [
    "sns.countplot(train[\"Past_Results\"])"
   ]
  },
  {
   "cell_type": "code",
   "execution_count": 16,
   "metadata": {},
   "outputs": [
    {
     "data": {
      "text/plain": [
       "True"
      ]
     },
     "execution_count": 16,
     "metadata": {},
     "output_type": "execute_result"
    }
   ],
   "source": [
    "train.query('Past_Results>1')[\"IsUnderRisk\"].all()==1"
   ]
  },
  {
   "cell_type": "markdown",
   "metadata": {},
   "source": [
    "I created a column by subtracting the values in Loss_score and Fin_Score columns."
   ]
  },
  {
   "cell_type": "code",
   "execution_count": 17,
   "metadata": {},
   "outputs": [],
   "source": [
    "train['fldif']=np.abs(train[\"Loss_score\"]-train[\"Fin_Score\"])\n",
    "test['fldif']=np.abs(test[\"Loss_score\"]-test[\"Fin_Score\"])"
   ]
  },
  {
   "cell_type": "code",
   "execution_count": 18,
   "metadata": {},
   "outputs": [
    {
     "data": {
      "text/html": [
       "<div>\n",
       "<style scoped>\n",
       "    .dataframe tbody tr th:only-of-type {\n",
       "        vertical-align: middle;\n",
       "    }\n",
       "\n",
       "    .dataframe tbody tr th {\n",
       "        vertical-align: top;\n",
       "    }\n",
       "\n",
       "    .dataframe thead th {\n",
       "        text-align: right;\n",
       "    }\n",
       "</style>\n",
       "<table border=\"1\" class=\"dataframe\">\n",
       "  <thead>\n",
       "    <tr style=\"text-align: right;\">\n",
       "      <th></th>\n",
       "      <th>City</th>\n",
       "      <th>Location_Score</th>\n",
       "      <th>Internal_Audit_Score</th>\n",
       "      <th>External_Audit_Score</th>\n",
       "      <th>Fin_Score</th>\n",
       "      <th>Loss_score</th>\n",
       "      <th>Past_Results</th>\n",
       "      <th>IsUnderRisk</th>\n",
       "      <th>fldif</th>\n",
       "    </tr>\n",
       "  </thead>\n",
       "  <tbody>\n",
       "    <tr>\n",
       "      <th>0</th>\n",
       "      <td>2</td>\n",
       "      <td>8.032</td>\n",
       "      <td>14</td>\n",
       "      <td>8</td>\n",
       "      <td>3</td>\n",
       "      <td>6</td>\n",
       "      <td>0</td>\n",
       "      <td>1</td>\n",
       "      <td>3</td>\n",
       "    </tr>\n",
       "    <tr>\n",
       "      <th>1</th>\n",
       "      <td>31</td>\n",
       "      <td>77.730</td>\n",
       "      <td>8</td>\n",
       "      <td>3</td>\n",
       "      <td>3</td>\n",
       "      <td>8</td>\n",
       "      <td>1</td>\n",
       "      <td>0</td>\n",
       "      <td>5</td>\n",
       "    </tr>\n",
       "  </tbody>\n",
       "</table>\n",
       "</div>"
      ],
      "text/plain": [
       "   City  Location_Score  Internal_Audit_Score  External_Audit_Score  \\\n",
       "0     2           8.032                    14                     8   \n",
       "1    31          77.730                     8                     3   \n",
       "\n",
       "   Fin_Score  Loss_score  Past_Results  IsUnderRisk  fldif  \n",
       "0          3           6             0            1      3  \n",
       "1          3           8             1            0      5  "
      ]
     },
     "execution_count": 18,
     "metadata": {},
     "output_type": "execute_result"
    }
   ],
   "source": [
    "train.head(2)"
   ]
  },
  {
   "cell_type": "markdown",
   "metadata": {},
   "source": [
    "This column showed a similar type of trend as well."
   ]
  },
  {
   "cell_type": "code",
   "execution_count": 19,
   "metadata": {},
   "outputs": [
    {
     "data": {
      "text/plain": [
       "<matplotlib.axes._subplots.AxesSubplot at 0x7f050dfb9eb8>"
      ]
     },
     "execution_count": 19,
     "metadata": {},
     "output_type": "execute_result"
    },
    {
     "data": {
      "image/png": "[encoded data removed]",
      "text/plain": [
       "<Figure size 432x288 with 1 Axes>"
      ]
     },
     "metadata": {
      "needs_background": "light"
     },
     "output_type": "display_data"
    }
   ],
   "source": [
    "sns.countplot(train[\"fldif\"])"
   ]
  },
  {
   "cell_type": "code",
   "execution_count": 20,
   "metadata": {},
   "outputs": [
    {
     "data": {
      "text/plain": [
       "True"
      ]
     },
     "execution_count": 20,
     "metadata": {},
     "output_type": "execute_result"
    }
   ],
   "source": [
    "train.query('fldif>5')['IsUnderRisk'].all()==1"
   ]
  },
  {
   "cell_type": "code",
   "execution_count": 21,
   "metadata": {},
   "outputs": [],
   "source": [
    "y=train[\"IsUnderRisk\"]"
   ]
  },
  {
   "cell_type": "code",
   "execution_count": 22,
   "metadata": {},
   "outputs": [],
   "source": [
    "train=train.drop(\"IsUnderRisk\",axis=1)"
   ]
  },
  {
   "cell_type": "code",
   "execution_count": 23,
   "metadata": {},
   "outputs": [],
   "source": [
    "# droplist=[]\n",
    "# train=train.drop(droplist,axis=1)\n",
    "# test=test.drop(droplist,axis=1)"
   ]
  },
  {
   "cell_type": "markdown",
   "metadata": {},
   "source": [
    "## Splitting train into X_test and Y_test"
   ]
  },
  {
   "cell_type": "code",
   "execution_count": 24,
   "metadata": {},
   "outputs": [],
   "source": [
    "from sklearn.model_selection import train_test_split\n",
    "X_train,X_test,y_train,y_test=train_test_split(train,y,test_size=0.2,random_state=0)\n"
   ]
  },
  {
   "cell_type": "code",
   "execution_count": 25,
   "metadata": {},
   "outputs": [],
   "source": [
    "# from xgboost import XGBClassifier\n",
    "# classifier = XGBClassifier()\n",
    "# classifier.fit(X_train,y_train)"
   ]
  },
  {
   "cell_type": "code",
   "execution_count": 26,
   "metadata": {},
   "outputs": [],
   "source": [
    "# from sklearn.ensemble import RandomForestClassifier\n",
    "# classifier=RandomForestClassifier()\n",
    "# classifier.fit(X_train,y_train)"
   ]
  },
  {
   "cell_type": "code",
   "execution_count": 27,
   "metadata": {},
   "outputs": [],
   "source": [
    "# from lightgbm import LGBMClassifier\n",
    "# classifier = LGBMClassifier()\n",
    "# classifier.fit(X_train,y_train)"
   ]
  },
  {
   "cell_type": "code",
   "execution_count": 28,
   "metadata": {},
   "outputs": [
    {
     "name": "stdout",
     "output_type": "stream",
     "text": [
      "0:\tlearn: 0.6822699\ttotal: 109ms\tremaining: 1m 33s\n",
      "1:\tlearn: 0.6712000\ttotal: 111ms\tremaining: 47.4s\n",
      "2:\tlearn: 0.6603006\ttotal: 113ms\tremaining: 32s\n",
      "3:\tlearn: 0.6495699\ttotal: 115ms\tremaining: 24.4s\n",
      "4:\tlearn: 0.6398866\ttotal: 116ms\tremaining: 19.7s\n",
      "5:\tlearn: 0.6310636\ttotal: 118ms\tremaining: 16.7s\n",
      "6:\tlearn: 0.6221142\ttotal: 120ms\tremaining: 14.5s\n",
      "7:\tlearn: 0.6130651\ttotal: 122ms\tremaining: 12.9s\n",
      "8:\tlearn: 0.6046341\ttotal: 123ms\tremaining: 11.6s\n",
      "9:\tlearn: 0.5959170\ttotal: 125ms\tremaining: 10.5s\n",
      "10:\tlearn: 0.5872006\ttotal: 126ms\tremaining: 9.68s\n",
      "11:\tlearn: 0.5801573\ttotal: 128ms\tremaining: 8.97s\n",
      "12:\tlearn: 0.5721809\ttotal: 129ms\tremaining: 8.36s\n",
      "13:\tlearn: 0.5648151\ttotal: 131ms\tremaining: 7.84s\n",
      "14:\tlearn: 0.5575096\ttotal: 132ms\tremaining: 7.38s\n",
      "15:\tlearn: 0.5511392\ttotal: 134ms\tremaining: 6.98s\n",
      "16:\tlearn: 0.5465995\ttotal: 135ms\tremaining: 6.63s\n",
      "17:\tlearn: 0.5396654\ttotal: 136ms\tremaining: 6.33s\n",
      "18:\tlearn: 0.5355399\ttotal: 138ms\tremaining: 6.07s\n",
      "19:\tlearn: 0.5296667\ttotal: 140ms\tremaining: 5.82s\n",
      "20:\tlearn: 0.5242178\ttotal: 141ms\tremaining: 5.6s\n",
      "21:\tlearn: 0.5182491\ttotal: 143ms\tremaining: 5.39s\n",
      "22:\tlearn: 0.5124512\ttotal: 144ms\tremaining: 5.21s\n",
      "23:\tlearn: 0.5080914\ttotal: 146ms\tremaining: 5.03s\n",
      "24:\tlearn: 0.5039817\ttotal: 147ms\tremaining: 4.88s\n",
      "25:\tlearn: 0.4991607\ttotal: 149ms\tremaining: 4.73s\n",
      "26:\tlearn: 0.4945208\ttotal: 150ms\tremaining: 4.6s\n",
      "27:\tlearn: 0.4908269\ttotal: 152ms\tremaining: 4.47s\n",
      "28:\tlearn: 0.4856593\ttotal: 153ms\tremaining: 4.34s\n",
      "29:\tlearn: 0.4808747\ttotal: 154ms\tremaining: 4.22s\n",
      "30:\tlearn: 0.4761144\ttotal: 155ms\tremaining: 4.11s\n",
      "31:\tlearn: 0.4714218\ttotal: 156ms\tremaining: 4s\n",
      "32:\tlearn: 0.4675405\ttotal: 157ms\tremaining: 3.9s\n",
      "33:\tlearn: 0.4647597\ttotal: 158ms\tremaining: 3.8s\n",
      "34:\tlearn: 0.4603361\ttotal: 159ms\tremaining: 3.71s\n",
      "35:\tlearn: 0.4571678\ttotal: 160ms\tremaining: 3.62s\n",
      "36:\tlearn: 0.4543527\ttotal: 160ms\tremaining: 3.54s\n",
      "37:\tlearn: 0.4519627\ttotal: 161ms\tremaining: 3.46s\n",
      "38:\tlearn: 0.4491115\ttotal: 162ms\tremaining: 3.38s\n",
      "39:\tlearn: 0.4460227\ttotal: 163ms\tremaining: 3.31s\n",
      "40:\tlearn: 0.4421087\ttotal: 164ms\tremaining: 3.24s\n",
      "41:\tlearn: 0.4403271\ttotal: 164ms\tremaining: 3.17s\n",
      "42:\tlearn: 0.4365229\ttotal: 165ms\tremaining: 3.11s\n",
      "43:\tlearn: 0.4334707\ttotal: 166ms\tremaining: 3.05s\n",
      "44:\tlearn: 0.4316514\ttotal: 167ms\tremaining: 2.99s\n",
      "45:\tlearn: 0.4286301\ttotal: 167ms\tremaining: 2.93s\n",
      "46:\tlearn: 0.4262997\ttotal: 168ms\tremaining: 2.88s\n",
      "47:\tlearn: 0.4233545\ttotal: 169ms\tremaining: 2.83s\n",
      "48:\tlearn: 0.4205230\ttotal: 169ms\tremaining: 2.77s\n",
      "49:\tlearn: 0.4185555\ttotal: 170ms\tremaining: 2.73s\n",
      "50:\tlearn: 0.4157155\ttotal: 170ms\tremaining: 2.68s\n",
      "51:\tlearn: 0.4140321\ttotal: 171ms\tremaining: 2.63s\n",
      "52:\tlearn: 0.4111489\ttotal: 172ms\tremaining: 2.59s\n",
      "53:\tlearn: 0.4088306\ttotal: 172ms\tremaining: 2.55s\n",
      "54:\tlearn: 0.4061612\ttotal: 173ms\tremaining: 2.51s\n",
      "55:\tlearn: 0.4036143\ttotal: 173ms\tremaining: 2.47s\n",
      "56:\tlearn: 0.4016055\ttotal: 174ms\tremaining: 2.43s\n",
      "57:\tlearn: 0.3998226\ttotal: 174ms\tremaining: 2.39s\n",
      "58:\tlearn: 0.3991648\ttotal: 175ms\tremaining: 2.35s\n",
      "59:\tlearn: 0.3969579\ttotal: 176ms\tremaining: 2.32s\n",
      "60:\tlearn: 0.3954649\ttotal: 176ms\tremaining: 2.29s\n",
      "61:\tlearn: 0.3940248\ttotal: 177ms\tremaining: 2.25s\n",
      "62:\tlearn: 0.3928123\ttotal: 177ms\tremaining: 2.22s\n",
      "63:\tlearn: 0.3904821\ttotal: 178ms\tremaining: 2.19s\n",
      "64:\tlearn: 0.3893379\ttotal: 178ms\tremaining: 2.16s\n",
      "65:\tlearn: 0.3869270\ttotal: 179ms\tremaining: 2.13s\n",
      "66:\tlearn: 0.3856703\ttotal: 179ms\tremaining: 2.1s\n",
      "67:\tlearn: 0.3836992\ttotal: 180ms\tremaining: 2.07s\n",
      "68:\tlearn: 0.3824042\ttotal: 180ms\tremaining: 2.05s\n",
      "69:\tlearn: 0.3812944\ttotal: 181ms\tremaining: 2.02s\n",
      "70:\tlearn: 0.3793978\ttotal: 181ms\tremaining: 2s\n",
      "71:\tlearn: 0.3785094\ttotal: 182ms\tremaining: 1.97s\n",
      "72:\tlearn: 0.3771316\ttotal: 182ms\tremaining: 1.95s\n",
      "73:\tlearn: 0.3756667\ttotal: 182ms\tremaining: 1.92s\n",
      "74:\tlearn: 0.3740323\ttotal: 183ms\tremaining: 1.9s\n",
      "75:\tlearn: 0.3725463\ttotal: 183ms\tremaining: 1.87s\n",
      "76:\tlearn: 0.3717833\ttotal: 184ms\tremaining: 1.85s\n",
      "77:\tlearn: 0.3701667\ttotal: 184ms\tremaining: 1.83s\n",
      "78:\tlearn: 0.3690284\ttotal: 185ms\tremaining: 1.81s\n",
      "79:\tlearn: 0.3677002\ttotal: 185ms\tremaining: 1.79s\n",
      "80:\tlearn: 0.3658585\ttotal: 186ms\tremaining: 1.77s\n",
      "81:\tlearn: 0.3646634\ttotal: 186ms\tremaining: 1.75s\n",
      "82:\tlearn: 0.3630947\ttotal: 187ms\tremaining: 1.73s\n",
      "83:\tlearn: 0.3614709\ttotal: 187ms\tremaining: 1.71s\n",
      "84:\tlearn: 0.3604522\ttotal: 187ms\tremaining: 1.69s\n",
      "85:\tlearn: 0.3596008\ttotal: 188ms\tremaining: 1.68s\n",
      "86:\tlearn: 0.3580770\ttotal: 188ms\tremaining: 1.66s\n",
      "87:\tlearn: 0.3571339\ttotal: 189ms\tremaining: 1.64s\n",
      "88:\tlearn: 0.3562065\ttotal: 189ms\tremaining: 1.62s\n",
      "89:\tlearn: 0.3552811\ttotal: 189ms\tremaining: 1.6s\n",
      "90:\tlearn: 0.3547366\ttotal: 190ms\tremaining: 1.59s\n",
      "91:\tlearn: 0.3543420\ttotal: 190ms\tremaining: 1.57s\n",
      "92:\tlearn: 0.3531320\ttotal: 191ms\tremaining: 1.56s\n",
      "93:\tlearn: 0.3517198\ttotal: 191ms\tremaining: 1.54s\n",
      "94:\tlearn: 0.3509761\ttotal: 191ms\tremaining: 1.53s\n",
      "95:\tlearn: 0.3503257\ttotal: 192ms\tremaining: 1.51s\n",
      "96:\tlearn: 0.3494917\ttotal: 192ms\tremaining: 1.5s\n",
      "97:\tlearn: 0.3487801\ttotal: 193ms\tremaining: 1.48s\n",
      "98:\tlearn: 0.3474981\ttotal: 193ms\tremaining: 1.47s\n",
      "99:\tlearn: 0.3471786\ttotal: 193ms\tremaining: 1.46s\n",
      "100:\tlearn: 0.3463216\ttotal: 194ms\tremaining: 1.44s\n",
      "101:\tlearn: 0.3451900\ttotal: 194ms\tremaining: 1.43s\n",
      "102:\tlearn: 0.3442326\ttotal: 195ms\tremaining: 1.42s\n",
      "103:\tlearn: 0.3436105\ttotal: 195ms\tremaining: 1.4s\n",
      "104:\tlearn: 0.3430941\ttotal: 195ms\tremaining: 1.39s\n",
      "105:\tlearn: 0.3421498\ttotal: 196ms\tremaining: 1.38s\n",
      "106:\tlearn: 0.3416129\ttotal: 196ms\tremaining: 1.37s\n",
      "107:\tlearn: 0.3407634\ttotal: 196ms\tremaining: 1.35s\n",
      "108:\tlearn: 0.3395906\ttotal: 197ms\tremaining: 1.34s\n",
      "109:\tlearn: 0.3383270\ttotal: 197ms\tremaining: 1.33s\n",
      "110:\tlearn: 0.3375083\ttotal: 198ms\tremaining: 1.32s\n",
      "111:\tlearn: 0.3368402\ttotal: 198ms\tremaining: 1.31s\n",
      "112:\tlearn: 0.3361506\ttotal: 199ms\tremaining: 1.3s\n",
      "113:\tlearn: 0.3354538\ttotal: 199ms\tremaining: 1.29s\n",
      "114:\tlearn: 0.3348554\ttotal: 199ms\tremaining: 1.28s\n",
      "115:\tlearn: 0.3340780\ttotal: 200ms\tremaining: 1.27s\n",
      "116:\tlearn: 0.3335015\ttotal: 200ms\tremaining: 1.26s\n",
      "117:\tlearn: 0.3330134\ttotal: 200ms\tremaining: 1.25s\n",
      "118:\tlearn: 0.3322298\ttotal: 201ms\tremaining: 1.24s\n",
      "119:\tlearn: 0.3313509\ttotal: 201ms\tremaining: 1.23s\n",
      "120:\tlearn: 0.3306789\ttotal: 202ms\tremaining: 1.22s\n",
      "121:\tlearn: 0.3296909\ttotal: 202ms\tremaining: 1.21s\n",
      "122:\tlearn: 0.3287342\ttotal: 202ms\tremaining: 1.2s\n",
      "123:\tlearn: 0.3280308\ttotal: 203ms\tremaining: 1.19s\n",
      "124:\tlearn: 0.3272232\ttotal: 203ms\tremaining: 1.18s\n",
      "125:\tlearn: 0.3264493\ttotal: 203ms\tremaining: 1.17s\n",
      "126:\tlearn: 0.3257983\ttotal: 204ms\tremaining: 1.16s\n",
      "127:\tlearn: 0.3252373\ttotal: 204ms\tremaining: 1.16s\n",
      "128:\tlearn: 0.3249465\ttotal: 204ms\tremaining: 1.15s\n",
      "129:\tlearn: 0.3241605\ttotal: 205ms\tremaining: 1.14s\n",
      "130:\tlearn: 0.3238012\ttotal: 205ms\tremaining: 1.13s\n",
      "131:\tlearn: 0.3229290\ttotal: 206ms\tremaining: 1.12s\n",
      "132:\tlearn: 0.3221190\ttotal: 206ms\tremaining: 1.11s\n",
      "133:\tlearn: 0.3213484\ttotal: 206ms\tremaining: 1.11s\n",
      "134:\tlearn: 0.3209461\ttotal: 207ms\tremaining: 1.1s\n",
      "135:\tlearn: 0.3206874\ttotal: 207ms\tremaining: 1.09s\n",
      "136:\tlearn: 0.3199342\ttotal: 207ms\tremaining: 1.08s\n",
      "137:\tlearn: 0.3192209\ttotal: 208ms\tremaining: 1.07s\n",
      "138:\tlearn: 0.3187909\ttotal: 208ms\tremaining: 1.07s\n",
      "139:\tlearn: 0.3183292\ttotal: 208ms\tremaining: 1.06s\n",
      "140:\tlearn: 0.3180334\ttotal: 209ms\tremaining: 1.05s\n",
      "141:\tlearn: 0.3176722\ttotal: 209ms\tremaining: 1.05s\n",
      "142:\tlearn: 0.3169776\ttotal: 209ms\tremaining: 1.04s\n",
      "143:\tlearn: 0.3166379\ttotal: 210ms\tremaining: 1.03s\n",
      "144:\tlearn: 0.3161239\ttotal: 210ms\tremaining: 1.03s\n",
      "145:\tlearn: 0.3159276\ttotal: 210ms\tremaining: 1.02s\n",
      "146:\tlearn: 0.3154334\ttotal: 211ms\tremaining: 1.01s\n",
      "147:\tlearn: 0.3151716\ttotal: 211ms\tremaining: 1.01s\n",
      "148:\tlearn: 0.3148787\ttotal: 212ms\tremaining: 999ms\n",
      "149:\tlearn: 0.3147160\ttotal: 212ms\tremaining: 993ms\n",
      "150:\tlearn: 0.3143313\ttotal: 212ms\tremaining: 987ms\n",
      "151:\tlearn: 0.3139056\ttotal: 213ms\tremaining: 981ms\n",
      "152:\tlearn: 0.3136114\ttotal: 213ms\tremaining: 974ms\n",
      "153:\tlearn: 0.3131840\ttotal: 213ms\tremaining: 968ms\n",
      "154:\tlearn: 0.3128099\ttotal: 214ms\tremaining: 962ms\n",
      "155:\tlearn: 0.3124418\ttotal: 214ms\tremaining: 957ms\n",
      "156:\tlearn: 0.3116418\ttotal: 214ms\tremaining: 951ms\n",
      "157:\tlearn: 0.3108387\ttotal: 215ms\tremaining: 945ms\n",
      "158:\tlearn: 0.3102934\ttotal: 215ms\tremaining: 939ms\n",
      "159:\tlearn: 0.3099572\ttotal: 215ms\tremaining: 933ms\n",
      "160:\tlearn: 0.3095220\ttotal: 216ms\tremaining: 928ms\n",
      "161:\tlearn: 0.3089090\ttotal: 216ms\tremaining: 922ms\n",
      "162:\tlearn: 0.3086483\ttotal: 217ms\tremaining: 917ms\n",
      "163:\tlearn: 0.3081483\ttotal: 217ms\tremaining: 911ms\n",
      "164:\tlearn: 0.3078709\ttotal: 217ms\tremaining: 906ms\n",
      "165:\tlearn: 0.3074895\ttotal: 218ms\tremaining: 901ms\n",
      "166:\tlearn: 0.3072327\ttotal: 218ms\tremaining: 895ms\n",
      "167:\tlearn: 0.3068363\ttotal: 218ms\tremaining: 890ms\n",
      "168:\tlearn: 0.3064075\ttotal: 219ms\tremaining: 885ms\n",
      "169:\tlearn: 0.3059924\ttotal: 219ms\tremaining: 880ms\n",
      "170:\tlearn: 0.3057538\ttotal: 219ms\tremaining: 875ms\n",
      "171:\tlearn: 0.3053685\ttotal: 220ms\tremaining: 870ms\n",
      "172:\tlearn: 0.3051232\ttotal: 220ms\tremaining: 865ms\n",
      "173:\tlearn: 0.3046405\ttotal: 221ms\tremaining: 861ms\n",
      "174:\tlearn: 0.3041899\ttotal: 221ms\tremaining: 856ms\n",
      "175:\tlearn: 0.3039359\ttotal: 221ms\tremaining: 851ms\n",
      "176:\tlearn: 0.3037829\ttotal: 222ms\tremaining: 847ms\n",
      "177:\tlearn: 0.3033582\ttotal: 222ms\tremaining: 842ms\n",
      "178:\tlearn: 0.3030272\ttotal: 222ms\tremaining: 837ms\n",
      "179:\tlearn: 0.3029269\ttotal: 223ms\tremaining: 833ms\n",
      "180:\tlearn: 0.3026829\ttotal: 223ms\tremaining: 828ms\n",
      "181:\tlearn: 0.3022313\ttotal: 223ms\tremaining: 824ms\n",
      "182:\tlearn: 0.3019883\ttotal: 224ms\tremaining: 819ms\n",
      "183:\tlearn: 0.3018364\ttotal: 224ms\tremaining: 815ms\n",
      "184:\tlearn: 0.3013801\ttotal: 224ms\tremaining: 811ms\n",
      "185:\tlearn: 0.3011648\ttotal: 225ms\tremaining: 806ms\n",
      "186:\tlearn: 0.3007268\ttotal: 225ms\tremaining: 802ms\n",
      "187:\tlearn: 0.3004143\ttotal: 226ms\tremaining: 798ms\n",
      "188:\tlearn: 0.3000948\ttotal: 226ms\tremaining: 794ms\n",
      "189:\tlearn: 0.2997127\ttotal: 226ms\tremaining: 789ms\n",
      "190:\tlearn: 0.2995399\ttotal: 227ms\tremaining: 785ms\n",
      "191:\tlearn: 0.2993027\ttotal: 227ms\tremaining: 781ms\n",
      "192:\tlearn: 0.2988535\ttotal: 227ms\tremaining: 777ms\n",
      "193:\tlearn: 0.2983613\ttotal: 228ms\tremaining: 773ms\n",
      "194:\tlearn: 0.2981726\ttotal: 228ms\tremaining: 769ms\n",
      "195:\tlearn: 0.2978803\ttotal: 228ms\tremaining: 765ms\n",
      "196:\tlearn: 0.2974817\ttotal: 229ms\tremaining: 761ms\n",
      "197:\tlearn: 0.2972963\ttotal: 229ms\tremaining: 758ms\n",
      "198:\tlearn: 0.2970757\ttotal: 229ms\tremaining: 754ms\n",
      "199:\tlearn: 0.2967770\ttotal: 230ms\tremaining: 750ms\n",
      "200:\tlearn: 0.2967076\ttotal: 230ms\tremaining: 746ms\n",
      "201:\tlearn: 0.2966054\ttotal: 230ms\tremaining: 743ms\n",
      "202:\tlearn: 0.2963863\ttotal: 231ms\tremaining: 739ms\n",
      "203:\tlearn: 0.2960580\ttotal: 231ms\tremaining: 735ms\n",
      "204:\tlearn: 0.2954693\ttotal: 232ms\tremaining: 732ms\n",
      "205:\tlearn: 0.2949747\ttotal: 232ms\tremaining: 728ms\n",
      "206:\tlearn: 0.2947990\ttotal: 232ms\tremaining: 725ms\n",
      "207:\tlearn: 0.2942586\ttotal: 233ms\tremaining: 721ms\n",
      "208:\tlearn: 0.2938562\ttotal: 233ms\tremaining: 718ms\n",
      "209:\tlearn: 0.2936764\ttotal: 233ms\tremaining: 714ms\n",
      "210:\tlearn: 0.2933230\ttotal: 234ms\tremaining: 711ms\n",
      "211:\tlearn: 0.2931981\ttotal: 234ms\tremaining: 708ms\n",
      "212:\tlearn: 0.2929202\ttotal: 234ms\tremaining: 704ms\n",
      "213:\tlearn: 0.2927871\ttotal: 235ms\tremaining: 701ms\n",
      "214:\tlearn: 0.2926332\ttotal: 235ms\tremaining: 698ms\n",
      "215:\tlearn: 0.2924735\ttotal: 235ms\tremaining: 695ms\n",
      "216:\tlearn: 0.2921455\ttotal: 236ms\tremaining: 691ms\n",
      "217:\tlearn: 0.2921035\ttotal: 236ms\tremaining: 688ms\n",
      "218:\tlearn: 0.2919693\ttotal: 237ms\tremaining: 685ms\n",
      "219:\tlearn: 0.2918846\ttotal: 237ms\tremaining: 682ms\n",
      "220:\tlearn: 0.2915564\ttotal: 237ms\tremaining: 679ms\n",
      "221:\tlearn: 0.2913324\ttotal: 238ms\tremaining: 676ms\n",
      "222:\tlearn: 0.2910148\ttotal: 238ms\tremaining: 673ms\n",
      "223:\tlearn: 0.2905650\ttotal: 238ms\tremaining: 669ms\n",
      "224:\tlearn: 0.2904182\ttotal: 239ms\tremaining: 666ms\n",
      "225:\tlearn: 0.2902735\ttotal: 239ms\tremaining: 663ms\n",
      "226:\tlearn: 0.2901187\ttotal: 240ms\tremaining: 661ms\n",
      "227:\tlearn: 0.2899647\ttotal: 240ms\tremaining: 658ms\n",
      "228:\tlearn: 0.2895593\ttotal: 240ms\tremaining: 655ms\n",
      "229:\tlearn: 0.2893192\ttotal: 241ms\tremaining: 652ms\n",
      "230:\tlearn: 0.2892244\ttotal: 241ms\tremaining: 649ms\n",
      "231:\tlearn: 0.2891156\ttotal: 241ms\tremaining: 646ms\n",
      "232:\tlearn: 0.2889668\ttotal: 242ms\tremaining: 643ms\n",
      "233:\tlearn: 0.2888348\ttotal: 242ms\tremaining: 641ms\n",
      "234:\tlearn: 0.2886687\ttotal: 243ms\tremaining: 638ms\n",
      "235:\tlearn: 0.2885401\ttotal: 243ms\tremaining: 635ms\n",
      "236:\tlearn: 0.2882239\ttotal: 243ms\tremaining: 632ms\n",
      "237:\tlearn: 0.2879769\ttotal: 244ms\tremaining: 630ms\n",
      "238:\tlearn: 0.2876830\ttotal: 244ms\tremaining: 627ms\n",
      "239:\tlearn: 0.2873742\ttotal: 244ms\tremaining: 624ms\n",
      "240:\tlearn: 0.2872816\ttotal: 245ms\tremaining: 621ms\n",
      "241:\tlearn: 0.2872176\ttotal: 245ms\tremaining: 619ms\n",
      "242:\tlearn: 0.2869682\ttotal: 245ms\tremaining: 616ms\n",
      "243:\tlearn: 0.2865714\ttotal: 246ms\tremaining: 613ms\n",
      "244:\tlearn: 0.2862839\ttotal: 246ms\tremaining: 611ms\n",
      "245:\tlearn: 0.2861449\ttotal: 247ms\tremaining: 608ms\n",
      "246:\tlearn: 0.2858131\ttotal: 247ms\tremaining: 606ms\n",
      "247:\tlearn: 0.2855748\ttotal: 247ms\tremaining: 603ms\n",
      "248:\tlearn: 0.2851910\ttotal: 248ms\tremaining: 601ms\n",
      "249:\tlearn: 0.2850773\ttotal: 248ms\tremaining: 598ms\n",
      "250:\tlearn: 0.2847371\ttotal: 248ms\tremaining: 595ms\n",
      "251:\tlearn: 0.2846701\ttotal: 249ms\tremaining: 593ms\n",
      "252:\tlearn: 0.2845272\ttotal: 249ms\tremaining: 590ms\n",
      "253:\tlearn: 0.2844495\ttotal: 249ms\tremaining: 588ms\n",
      "254:\tlearn: 0.2839931\ttotal: 250ms\tremaining: 586ms\n",
      "255:\tlearn: 0.2838461\ttotal: 250ms\tremaining: 583ms\n",
      "256:\tlearn: 0.2835216\ttotal: 250ms\tremaining: 581ms\n",
      "257:\tlearn: 0.2830883\ttotal: 251ms\tremaining: 578ms\n",
      "258:\tlearn: 0.2829823\ttotal: 251ms\tremaining: 576ms\n",
      "259:\tlearn: 0.2827177\ttotal: 251ms\tremaining: 573ms\n",
      "260:\tlearn: 0.2825058\ttotal: 252ms\tremaining: 571ms\n",
      "261:\tlearn: 0.2823231\ttotal: 252ms\tremaining: 569ms\n",
      "262:\tlearn: 0.2820925\ttotal: 252ms\tremaining: 566ms\n",
      "263:\tlearn: 0.2817237\ttotal: 253ms\tremaining: 564ms\n",
      "264:\tlearn: 0.2816733\ttotal: 253ms\tremaining: 562ms\n",
      "265:\tlearn: 0.2816226\ttotal: 254ms\tremaining: 560ms\n",
      "266:\tlearn: 0.2815214\ttotal: 254ms\tremaining: 557ms\n",
      "267:\tlearn: 0.2811781\ttotal: 254ms\tremaining: 555ms\n",
      "268:\tlearn: 0.2811456\ttotal: 255ms\tremaining: 553ms\n",
      "269:\tlearn: 0.2809049\ttotal: 255ms\tremaining: 551ms\n",
      "270:\tlearn: 0.2806379\ttotal: 255ms\tremaining: 549ms\n",
      "271:\tlearn: 0.2804654\ttotal: 256ms\tremaining: 546ms\n",
      "272:\tlearn: 0.2801313\ttotal: 256ms\tremaining: 544ms\n",
      "273:\tlearn: 0.2798373\ttotal: 256ms\tremaining: 542ms\n",
      "274:\tlearn: 0.2796293\ttotal: 257ms\tremaining: 540ms\n",
      "275:\tlearn: 0.2792002\ttotal: 257ms\tremaining: 538ms\n",
      "276:\tlearn: 0.2788898\ttotal: 258ms\tremaining: 536ms\n",
      "277:\tlearn: 0.2785713\ttotal: 258ms\tremaining: 533ms\n",
      "278:\tlearn: 0.2782708\ttotal: 258ms\tremaining: 531ms\n",
      "279:\tlearn: 0.2782196\ttotal: 259ms\tremaining: 529ms\n",
      "280:\tlearn: 0.2779659\ttotal: 259ms\tremaining: 527ms\n",
      "281:\tlearn: 0.2777245\ttotal: 259ms\tremaining: 525ms\n",
      "282:\tlearn: 0.2775566\ttotal: 260ms\tremaining: 523ms\n",
      "283:\tlearn: 0.2774784\ttotal: 260ms\tremaining: 521ms\n",
      "284:\tlearn: 0.2772429\ttotal: 260ms\tremaining: 519ms\n",
      "285:\tlearn: 0.2770225\ttotal: 261ms\tremaining: 517ms\n",
      "286:\tlearn: 0.2767232\ttotal: 261ms\tremaining: 515ms\n",
      "287:\tlearn: 0.2764649\ttotal: 261ms\tremaining: 513ms\n",
      "288:\tlearn: 0.2762572\ttotal: 262ms\tremaining: 511ms\n",
      "289:\tlearn: 0.2759533\ttotal: 262ms\tremaining: 509ms\n",
      "290:\tlearn: 0.2758377\ttotal: 263ms\tremaining: 507ms\n",
      "291:\tlearn: 0.2756552\ttotal: 263ms\tremaining: 505ms\n",
      "292:\tlearn: 0.2755970\ttotal: 263ms\tremaining: 503ms\n",
      "293:\tlearn: 0.2752777\ttotal: 264ms\tremaining: 502ms\n",
      "294:\tlearn: 0.2750624\ttotal: 264ms\tremaining: 500ms\n",
      "295:\tlearn: 0.2747747\ttotal: 264ms\tremaining: 498ms\n",
      "296:\tlearn: 0.2747250\ttotal: 265ms\tremaining: 496ms\n",
      "297:\tlearn: 0.2746399\ttotal: 265ms\tremaining: 494ms\n",
      "298:\tlearn: 0.2746050\ttotal: 266ms\tremaining: 492ms\n",
      "299:\tlearn: 0.2745540\ttotal: 266ms\tremaining: 490ms\n",
      "300:\tlearn: 0.2744926\ttotal: 266ms\tremaining: 488ms\n",
      "301:\tlearn: 0.2743517\ttotal: 267ms\tremaining: 486ms\n",
      "302:\tlearn: 0.2741378\ttotal: 267ms\tremaining: 485ms\n",
      "303:\tlearn: 0.2738748\ttotal: 267ms\tremaining: 483ms\n",
      "304:\tlearn: 0.2738301\ttotal: 268ms\tremaining: 481ms\n",
      "305:\tlearn: 0.2736045\ttotal: 268ms\tremaining: 479ms\n",
      "306:\tlearn: 0.2731693\ttotal: 268ms\tremaining: 477ms\n",
      "307:\tlearn: 0.2729074\ttotal: 269ms\tremaining: 476ms\n",
      "308:\tlearn: 0.2726939\ttotal: 269ms\tremaining: 474ms\n",
      "309:\tlearn: 0.2725283\ttotal: 269ms\tremaining: 472ms\n",
      "310:\tlearn: 0.2722129\ttotal: 270ms\tremaining: 470ms\n",
      "311:\tlearn: 0.2719685\ttotal: 270ms\tremaining: 469ms\n",
      "312:\tlearn: 0.2716729\ttotal: 271ms\tremaining: 467ms\n",
      "313:\tlearn: 0.2714843\ttotal: 271ms\tremaining: 465ms\n",
      "314:\tlearn: 0.2713385\ttotal: 271ms\tremaining: 463ms\n",
      "315:\tlearn: 0.2712909\ttotal: 272ms\tremaining: 462ms\n",
      "316:\tlearn: 0.2710871\ttotal: 272ms\tremaining: 460ms\n",
      "317:\tlearn: 0.2706715\ttotal: 272ms\tremaining: 458ms\n",
      "318:\tlearn: 0.2705134\ttotal: 273ms\tremaining: 457ms\n",
      "319:\tlearn: 0.2704055\ttotal: 273ms\tremaining: 455ms\n",
      "320:\tlearn: 0.2702361\ttotal: 274ms\tremaining: 453ms\n",
      "321:\tlearn: 0.2700195\ttotal: 274ms\tremaining: 452ms\n",
      "322:\tlearn: 0.2697954\ttotal: 274ms\tremaining: 450ms\n",
      "323:\tlearn: 0.2696255\ttotal: 275ms\tremaining: 449ms\n",
      "324:\tlearn: 0.2694010\ttotal: 275ms\tremaining: 447ms\n",
      "325:\tlearn: 0.2690817\ttotal: 275ms\tremaining: 445ms\n",
      "326:\tlearn: 0.2690035\ttotal: 276ms\tremaining: 444ms\n",
      "327:\tlearn: 0.2686402\ttotal: 276ms\tremaining: 442ms\n",
      "328:\tlearn: 0.2683332\ttotal: 277ms\tremaining: 440ms\n",
      "329:\tlearn: 0.2680435\ttotal: 277ms\tremaining: 439ms\n",
      "330:\tlearn: 0.2678199\ttotal: 277ms\tremaining: 437ms\n",
      "331:\tlearn: 0.2676591\ttotal: 278ms\tremaining: 436ms\n",
      "332:\tlearn: 0.2674288\ttotal: 278ms\tremaining: 434ms\n",
      "333:\tlearn: 0.2673142\ttotal: 278ms\tremaining: 432ms\n",
      "334:\tlearn: 0.2672311\ttotal: 279ms\tremaining: 431ms\n",
      "335:\tlearn: 0.2671555\ttotal: 279ms\tremaining: 429ms\n",
      "336:\tlearn: 0.2670767\ttotal: 279ms\tremaining: 428ms\n",
      "337:\tlearn: 0.2667861\ttotal: 280ms\tremaining: 426ms\n",
      "338:\tlearn: 0.2665647\ttotal: 280ms\tremaining: 425ms\n",
      "339:\tlearn: 0.2663324\ttotal: 280ms\tremaining: 423ms\n",
      "340:\tlearn: 0.2662589\ttotal: 281ms\tremaining: 422ms\n",
      "341:\tlearn: 0.2660409\ttotal: 281ms\tremaining: 420ms\n",
      "342:\tlearn: 0.2658775\ttotal: 282ms\tremaining: 419ms\n",
      "343:\tlearn: 0.2657833\ttotal: 282ms\tremaining: 417ms\n",
      "344:\tlearn: 0.2656305\ttotal: 282ms\tremaining: 416ms\n",
      "345:\tlearn: 0.2655570\ttotal: 283ms\tremaining: 414ms\n",
      "346:\tlearn: 0.2653923\ttotal: 283ms\tremaining: 413ms\n",
      "347:\tlearn: 0.2651034\ttotal: 283ms\tremaining: 411ms\n",
      "348:\tlearn: 0.2650491\ttotal: 284ms\tremaining: 410ms\n",
      "349:\tlearn: 0.2649357\ttotal: 284ms\tremaining: 408ms\n",
      "350:\tlearn: 0.2645688\ttotal: 284ms\tremaining: 407ms\n",
      "351:\tlearn: 0.2644155\ttotal: 285ms\tremaining: 405ms\n",
      "352:\tlearn: 0.2643666\ttotal: 285ms\tremaining: 404ms\n",
      "353:\tlearn: 0.2641213\ttotal: 285ms\tremaining: 402ms\n",
      "354:\tlearn: 0.2639776\ttotal: 286ms\tremaining: 401ms\n",
      "355:\tlearn: 0.2638993\ttotal: 286ms\tremaining: 399ms\n",
      "356:\tlearn: 0.2636787\ttotal: 286ms\tremaining: 398ms\n",
      "357:\tlearn: 0.2635108\ttotal: 287ms\tremaining: 397ms\n",
      "358:\tlearn: 0.2633505\ttotal: 287ms\tremaining: 395ms\n",
      "359:\tlearn: 0.2631942\ttotal: 288ms\tremaining: 394ms\n",
      "360:\tlearn: 0.2631667\ttotal: 288ms\tremaining: 392ms\n"
     ]
    },
    {
     "name": "stdout",
     "output_type": "stream",
     "text": [
      "361:\tlearn: 0.2631069\ttotal: 301ms\tremaining: 408ms\n",
      "362:\tlearn: 0.2630337\ttotal: 303ms\tremaining: 409ms\n",
      "363:\tlearn: 0.2627880\ttotal: 305ms\tremaining: 409ms\n",
      "364:\tlearn: 0.2627468\ttotal: 306ms\tremaining: 409ms\n",
      "365:\tlearn: 0.2626216\ttotal: 308ms\tremaining: 410ms\n",
      "366:\tlearn: 0.2625597\ttotal: 311ms\tremaining: 411ms\n",
      "367:\tlearn: 0.2623781\ttotal: 313ms\tremaining: 412ms\n",
      "368:\tlearn: 0.2621801\ttotal: 315ms\tremaining: 413ms\n",
      "369:\tlearn: 0.2619962\ttotal: 317ms\tremaining: 414ms\n",
      "370:\tlearn: 0.2618783\ttotal: 319ms\tremaining: 414ms\n",
      "371:\tlearn: 0.2617018\ttotal: 320ms\tremaining: 414ms\n",
      "372:\tlearn: 0.2616133\ttotal: 322ms\tremaining: 415ms\n",
      "373:\tlearn: 0.2614748\ttotal: 324ms\tremaining: 416ms\n",
      "374:\tlearn: 0.2613008\ttotal: 327ms\tremaining: 416ms\n",
      "375:\tlearn: 0.2612014\ttotal: 328ms\tremaining: 417ms\n",
      "376:\tlearn: 0.2609896\ttotal: 330ms\tremaining: 417ms\n",
      "377:\tlearn: 0.2608144\ttotal: 332ms\tremaining: 418ms\n",
      "378:\tlearn: 0.2607379\ttotal: 334ms\tremaining: 418ms\n",
      "379:\tlearn: 0.2605950\ttotal: 336ms\tremaining: 418ms\n",
      "380:\tlearn: 0.2604363\ttotal: 338ms\tremaining: 419ms\n",
      "381:\tlearn: 0.2603819\ttotal: 340ms\tremaining: 419ms\n",
      "382:\tlearn: 0.2603029\ttotal: 342ms\tremaining: 419ms\n",
      "383:\tlearn: 0.2600959\ttotal: 343ms\tremaining: 419ms\n",
      "384:\tlearn: 0.2600809\ttotal: 345ms\tremaining: 420ms\n",
      "385:\tlearn: 0.2597820\ttotal: 347ms\tremaining: 420ms\n",
      "386:\tlearn: 0.2594974\ttotal: 349ms\tremaining: 420ms\n",
      "387:\tlearn: 0.2593412\ttotal: 351ms\tremaining: 421ms\n",
      "388:\tlearn: 0.2591093\ttotal: 353ms\tremaining: 421ms\n",
      "389:\tlearn: 0.2589295\ttotal: 355ms\tremaining: 421ms\n",
      "390:\tlearn: 0.2587912\ttotal: 357ms\tremaining: 422ms\n",
      "391:\tlearn: 0.2587439\ttotal: 359ms\tremaining: 423ms\n",
      "392:\tlearn: 0.2585635\ttotal: 361ms\tremaining: 423ms\n",
      "393:\tlearn: 0.2583881\ttotal: 363ms\tremaining: 423ms\n",
      "394:\tlearn: 0.2581367\ttotal: 364ms\tremaining: 422ms\n",
      "395:\tlearn: 0.2580347\ttotal: 366ms\tremaining: 422ms\n",
      "396:\tlearn: 0.2579480\ttotal: 367ms\tremaining: 422ms\n",
      "397:\tlearn: 0.2577829\ttotal: 369ms\tremaining: 422ms\n",
      "398:\tlearn: 0.2575992\ttotal: 371ms\tremaining: 422ms\n",
      "399:\tlearn: 0.2572603\ttotal: 372ms\tremaining: 421ms\n",
      "400:\tlearn: 0.2570337\ttotal: 374ms\tremaining: 421ms\n",
      "401:\tlearn: 0.2567314\ttotal: 375ms\tremaining: 420ms\n",
      "402:\tlearn: 0.2565004\ttotal: 376ms\tremaining: 420ms\n",
      "403:\tlearn: 0.2563177\ttotal: 377ms\tremaining: 419ms\n",
      "404:\tlearn: 0.2562419\ttotal: 378ms\tremaining: 418ms\n",
      "405:\tlearn: 0.2560759\ttotal: 379ms\tremaining: 418ms\n",
      "406:\tlearn: 0.2558202\ttotal: 381ms\tremaining: 417ms\n",
      "407:\tlearn: 0.2555634\ttotal: 382ms\tremaining: 417ms\n",
      "408:\tlearn: 0.2554132\ttotal: 383ms\tremaining: 416ms\n",
      "409:\tlearn: 0.2553267\ttotal: 384ms\tremaining: 415ms\n",
      "410:\tlearn: 0.2552491\ttotal: 386ms\tremaining: 415ms\n",
      "411:\tlearn: 0.2551801\ttotal: 387ms\tremaining: 414ms\n",
      "412:\tlearn: 0.2548802\ttotal: 387ms\tremaining: 413ms\n",
      "413:\tlearn: 0.2547196\ttotal: 388ms\tremaining: 412ms\n",
      "414:\tlearn: 0.2546203\ttotal: 389ms\tremaining: 410ms\n",
      "415:\tlearn: 0.2543887\ttotal: 390ms\tremaining: 409ms\n",
      "416:\tlearn: 0.2541422\ttotal: 390ms\tremaining: 408ms\n",
      "417:\tlearn: 0.2540951\ttotal: 391ms\tremaining: 407ms\n",
      "418:\tlearn: 0.2540489\ttotal: 392ms\tremaining: 406ms\n",
      "419:\tlearn: 0.2538837\ttotal: 392ms\tremaining: 404ms\n",
      "420:\tlearn: 0.2537657\ttotal: 393ms\tremaining: 403ms\n",
      "421:\tlearn: 0.2536370\ttotal: 394ms\tremaining: 402ms\n",
      "422:\tlearn: 0.2533970\ttotal: 394ms\tremaining: 401ms\n",
      "423:\tlearn: 0.2533048\ttotal: 395ms\tremaining: 399ms\n",
      "424:\tlearn: 0.2531711\ttotal: 395ms\tremaining: 398ms\n",
      "425:\tlearn: 0.2531106\ttotal: 396ms\tremaining: 397ms\n",
      "426:\tlearn: 0.2529682\ttotal: 397ms\tremaining: 396ms\n",
      "427:\tlearn: 0.2528060\ttotal: 397ms\tremaining: 394ms\n",
      "428:\tlearn: 0.2527682\ttotal: 398ms\tremaining: 393ms\n",
      "429:\tlearn: 0.2526425\ttotal: 398ms\tremaining: 392ms\n",
      "430:\tlearn: 0.2525057\ttotal: 399ms\tremaining: 391ms\n",
      "431:\tlearn: 0.2524090\ttotal: 400ms\tremaining: 390ms\n",
      "432:\tlearn: 0.2523681\ttotal: 400ms\tremaining: 388ms\n",
      "433:\tlearn: 0.2521435\ttotal: 401ms\tremaining: 387ms\n",
      "434:\tlearn: 0.2521008\ttotal: 402ms\tremaining: 386ms\n",
      "435:\tlearn: 0.2519264\ttotal: 402ms\tremaining: 385ms\n",
      "436:\tlearn: 0.2518087\ttotal: 403ms\tremaining: 384ms\n",
      "437:\tlearn: 0.2516382\ttotal: 403ms\tremaining: 382ms\n",
      "438:\tlearn: 0.2515166\ttotal: 404ms\tremaining: 381ms\n",
      "439:\tlearn: 0.2513962\ttotal: 404ms\tremaining: 380ms\n",
      "440:\tlearn: 0.2513085\ttotal: 405ms\tremaining: 378ms\n",
      "441:\tlearn: 0.2511408\ttotal: 405ms\tremaining: 377ms\n",
      "442:\tlearn: 0.2509533\ttotal: 406ms\tremaining: 375ms\n",
      "443:\tlearn: 0.2508839\ttotal: 406ms\tremaining: 374ms\n",
      "444:\tlearn: 0.2507724\ttotal: 407ms\tremaining: 373ms\n",
      "445:\tlearn: 0.2506408\ttotal: 407ms\tremaining: 372ms\n",
      "446:\tlearn: 0.2503168\ttotal: 408ms\tremaining: 370ms\n",
      "447:\tlearn: 0.2502800\ttotal: 408ms\tremaining: 369ms\n",
      "448:\tlearn: 0.2501728\ttotal: 409ms\tremaining: 368ms\n",
      "449:\tlearn: 0.2500939\ttotal: 409ms\tremaining: 366ms\n",
      "450:\tlearn: 0.2499966\ttotal: 410ms\tremaining: 365ms\n",
      "451:\tlearn: 0.2498714\ttotal: 410ms\tremaining: 364ms\n",
      "452:\tlearn: 0.2497125\ttotal: 410ms\tremaining: 362ms\n",
      "453:\tlearn: 0.2496309\ttotal: 411ms\tremaining: 361ms\n",
      "454:\tlearn: 0.2494586\ttotal: 411ms\tremaining: 360ms\n",
      "455:\tlearn: 0.2493035\ttotal: 412ms\tremaining: 358ms\n",
      "456:\tlearn: 0.2490791\ttotal: 412ms\tremaining: 357ms\n",
      "457:\tlearn: 0.2490023\ttotal: 412ms\tremaining: 356ms\n",
      "458:\tlearn: 0.2488335\ttotal: 413ms\tremaining: 354ms\n",
      "459:\tlearn: 0.2486855\ttotal: 413ms\tremaining: 353ms\n",
      "460:\tlearn: 0.2485897\ttotal: 414ms\tremaining: 352ms\n",
      "461:\tlearn: 0.2484784\ttotal: 414ms\tremaining: 350ms\n",
      "462:\tlearn: 0.2482134\ttotal: 414ms\tremaining: 349ms\n",
      "463:\tlearn: 0.2481712\ttotal: 415ms\tremaining: 348ms\n",
      "464:\tlearn: 0.2479057\ttotal: 415ms\tremaining: 346ms\n",
      "465:\tlearn: 0.2477903\ttotal: 415ms\tremaining: 345ms\n",
      "466:\tlearn: 0.2476841\ttotal: 416ms\tremaining: 344ms\n",
      "467:\tlearn: 0.2475782\ttotal: 416ms\tremaining: 342ms\n",
      "468:\tlearn: 0.2474932\ttotal: 416ms\tremaining: 341ms\n",
      "469:\tlearn: 0.2473605\ttotal: 417ms\tremaining: 340ms\n",
      "470:\tlearn: 0.2473336\ttotal: 417ms\tremaining: 338ms\n",
      "471:\tlearn: 0.2472288\ttotal: 417ms\tremaining: 337ms\n",
      "472:\tlearn: 0.2471022\ttotal: 418ms\tremaining: 336ms\n",
      "473:\tlearn: 0.2468268\ttotal: 418ms\tremaining: 334ms\n",
      "474:\tlearn: 0.2467647\ttotal: 419ms\tremaining: 333ms\n",
      "475:\tlearn: 0.2465919\ttotal: 419ms\tremaining: 332ms\n",
      "476:\tlearn: 0.2463650\ttotal: 419ms\tremaining: 331ms\n",
      "477:\tlearn: 0.2461487\ttotal: 420ms\tremaining: 329ms\n",
      "478:\tlearn: 0.2460413\ttotal: 420ms\tremaining: 328ms\n",
      "479:\tlearn: 0.2458634\ttotal: 420ms\tremaining: 327ms\n",
      "480:\tlearn: 0.2458048\ttotal: 421ms\tremaining: 325ms\n",
      "481:\tlearn: 0.2456339\ttotal: 421ms\tremaining: 324ms\n",
      "482:\tlearn: 0.2453662\ttotal: 421ms\tremaining: 323ms\n",
      "483:\tlearn: 0.2450865\ttotal: 422ms\tremaining: 322ms\n",
      "484:\tlearn: 0.2448301\ttotal: 422ms\tremaining: 320ms\n",
      "485:\tlearn: 0.2446729\ttotal: 422ms\tremaining: 319ms\n",
      "486:\tlearn: 0.2445809\ttotal: 423ms\tremaining: 318ms\n",
      "487:\tlearn: 0.2444380\ttotal: 423ms\tremaining: 317ms\n",
      "488:\tlearn: 0.2442359\ttotal: 424ms\tremaining: 315ms\n",
      "489:\tlearn: 0.2440266\ttotal: 424ms\tremaining: 314ms\n",
      "490:\tlearn: 0.2439486\ttotal: 424ms\tremaining: 313ms\n",
      "491:\tlearn: 0.2437931\ttotal: 425ms\tremaining: 312ms\n",
      "492:\tlearn: 0.2437659\ttotal: 425ms\tremaining: 310ms\n",
      "493:\tlearn: 0.2437327\ttotal: 425ms\tremaining: 309ms\n",
      "494:\tlearn: 0.2434583\ttotal: 426ms\tremaining: 308ms\n",
      "495:\tlearn: 0.2432493\ttotal: 426ms\tremaining: 307ms\n",
      "496:\tlearn: 0.2430156\ttotal: 427ms\tremaining: 306ms\n",
      "497:\tlearn: 0.2428732\ttotal: 427ms\tremaining: 304ms\n",
      "498:\tlearn: 0.2427028\ttotal: 427ms\tremaining: 303ms\n",
      "499:\tlearn: 0.2425388\ttotal: 428ms\tremaining: 302ms\n",
      "500:\tlearn: 0.2423899\ttotal: 429ms\tremaining: 301ms\n",
      "501:\tlearn: 0.2422165\ttotal: 430ms\tremaining: 301ms\n",
      "502:\tlearn: 0.2420054\ttotal: 431ms\tremaining: 300ms\n",
      "503:\tlearn: 0.2418956\ttotal: 431ms\tremaining: 299ms\n",
      "504:\tlearn: 0.2417812\ttotal: 432ms\tremaining: 297ms\n",
      "505:\tlearn: 0.2414340\ttotal: 432ms\tremaining: 296ms\n",
      "506:\tlearn: 0.2413690\ttotal: 432ms\tremaining: 295ms\n",
      "507:\tlearn: 0.2411365\ttotal: 433ms\tremaining: 294ms\n",
      "508:\tlearn: 0.2409986\ttotal: 433ms\tremaining: 293ms\n",
      "509:\tlearn: 0.2408251\ttotal: 433ms\tremaining: 291ms\n",
      "510:\tlearn: 0.2406517\ttotal: 434ms\tremaining: 290ms\n",
      "511:\tlearn: 0.2405158\ttotal: 435ms\tremaining: 290ms\n",
      "512:\tlearn: 0.2401603\ttotal: 436ms\tremaining: 289ms\n",
      "513:\tlearn: 0.2399594\ttotal: 436ms\tremaining: 288ms\n",
      "514:\tlearn: 0.2397551\ttotal: 437ms\tremaining: 287ms\n",
      "515:\tlearn: 0.2395153\ttotal: 438ms\tremaining: 286ms\n",
      "516:\tlearn: 0.2393233\ttotal: 438ms\tremaining: 285ms\n",
      "517:\tlearn: 0.2391986\ttotal: 438ms\tremaining: 283ms\n",
      "518:\tlearn: 0.2390736\ttotal: 439ms\tremaining: 282ms\n",
      "519:\tlearn: 0.2390367\ttotal: 439ms\tremaining: 281ms\n",
      "520:\tlearn: 0.2388982\ttotal: 439ms\tremaining: 280ms\n",
      "521:\tlearn: 0.2387594\ttotal: 440ms\tremaining: 279ms\n",
      "522:\tlearn: 0.2386293\ttotal: 440ms\tremaining: 278ms\n",
      "523:\tlearn: 0.2384085\ttotal: 441ms\tremaining: 277ms\n",
      "524:\tlearn: 0.2382252\ttotal: 441ms\tremaining: 276ms\n",
      "525:\tlearn: 0.2380181\ttotal: 441ms\tremaining: 274ms\n",
      "526:\tlearn: 0.2377851\ttotal: 442ms\tremaining: 273ms\n",
      "527:\tlearn: 0.2375090\ttotal: 442ms\tremaining: 272ms\n",
      "528:\tlearn: 0.2374611\ttotal: 443ms\tremaining: 271ms\n",
      "529:\tlearn: 0.2372866\ttotal: 443ms\tremaining: 270ms\n",
      "530:\tlearn: 0.2371478\ttotal: 443ms\tremaining: 269ms\n",
      "531:\tlearn: 0.2370127\ttotal: 444ms\tremaining: 268ms\n",
      "532:\tlearn: 0.2367388\ttotal: 444ms\tremaining: 267ms\n",
      "533:\tlearn: 0.2365852\ttotal: 445ms\tremaining: 266ms\n",
      "534:\tlearn: 0.2365036\ttotal: 445ms\tremaining: 264ms\n",
      "535:\tlearn: 0.2363914\ttotal: 445ms\tremaining: 263ms\n",
      "536:\tlearn: 0.2363549\ttotal: 446ms\tremaining: 262ms\n",
      "537:\tlearn: 0.2363069\ttotal: 446ms\tremaining: 261ms\n",
      "538:\tlearn: 0.2361603\ttotal: 446ms\tremaining: 260ms\n",
      "539:\tlearn: 0.2360530\ttotal: 447ms\tremaining: 259ms\n",
      "540:\tlearn: 0.2359856\ttotal: 447ms\tremaining: 258ms\n",
      "541:\tlearn: 0.2357521\ttotal: 447ms\tremaining: 257ms\n",
      "542:\tlearn: 0.2356545\ttotal: 448ms\tremaining: 256ms\n",
      "543:\tlearn: 0.2354949\ttotal: 448ms\tremaining: 255ms\n",
      "544:\tlearn: 0.2354302\ttotal: 449ms\tremaining: 254ms\n",
      "545:\tlearn: 0.2353659\ttotal: 449ms\tremaining: 253ms\n",
      "546:\tlearn: 0.2351675\ttotal: 450ms\tremaining: 252ms\n",
      "547:\tlearn: 0.2350770\ttotal: 450ms\tremaining: 251ms\n",
      "548:\tlearn: 0.2349608\ttotal: 451ms\tremaining: 250ms\n",
      "549:\tlearn: 0.2348730\ttotal: 452ms\tremaining: 249ms\n",
      "550:\tlearn: 0.2347286\ttotal: 452ms\tremaining: 248ms\n",
      "551:\tlearn: 0.2346070\ttotal: 453ms\tremaining: 247ms\n",
      "552:\tlearn: 0.2345448\ttotal: 453ms\tremaining: 246ms\n",
      "553:\tlearn: 0.2345038\ttotal: 453ms\tremaining: 245ms\n",
      "554:\tlearn: 0.2344373\ttotal: 454ms\tremaining: 244ms\n",
      "555:\tlearn: 0.2342883\ttotal: 454ms\tremaining: 242ms\n",
      "556:\tlearn: 0.2342177\ttotal: 454ms\tremaining: 241ms\n",
      "557:\tlearn: 0.2340812\ttotal: 455ms\tremaining: 240ms\n",
      "558:\tlearn: 0.2339036\ttotal: 455ms\tremaining: 239ms\n",
      "559:\tlearn: 0.2336773\ttotal: 455ms\tremaining: 238ms\n",
      "560:\tlearn: 0.2335740\ttotal: 456ms\tremaining: 237ms\n",
      "561:\tlearn: 0.2334038\ttotal: 456ms\tremaining: 236ms\n",
      "562:\tlearn: 0.2333310\ttotal: 457ms\tremaining: 235ms\n",
      "563:\tlearn: 0.2331569\ttotal: 457ms\tremaining: 234ms\n",
      "564:\tlearn: 0.2331285\ttotal: 457ms\tremaining: 233ms\n",
      "565:\tlearn: 0.2329474\ttotal: 458ms\tremaining: 232ms\n",
      "566:\tlearn: 0.2328384\ttotal: 458ms\tremaining: 231ms\n",
      "567:\tlearn: 0.2327513\ttotal: 458ms\tremaining: 230ms\n",
      "568:\tlearn: 0.2325867\ttotal: 459ms\tremaining: 229ms\n",
      "569:\tlearn: 0.2325307\ttotal: 459ms\tremaining: 228ms\n",
      "570:\tlearn: 0.2324717\ttotal: 460ms\tremaining: 227ms\n",
      "571:\tlearn: 0.2322441\ttotal: 460ms\tremaining: 226ms\n",
      "572:\tlearn: 0.2320792\ttotal: 460ms\tremaining: 225ms\n",
      "573:\tlearn: 0.2317992\ttotal: 461ms\tremaining: 224ms\n",
      "574:\tlearn: 0.2317233\ttotal: 461ms\tremaining: 223ms\n",
      "575:\tlearn: 0.2314644\ttotal: 461ms\tremaining: 222ms\n",
      "576:\tlearn: 0.2312958\ttotal: 462ms\tremaining: 221ms\n",
      "577:\tlearn: 0.2311323\ttotal: 462ms\tremaining: 220ms\n",
      "578:\tlearn: 0.2309822\ttotal: 462ms\tremaining: 219ms\n",
      "579:\tlearn: 0.2308638\ttotal: 463ms\tremaining: 218ms\n",
      "580:\tlearn: 0.2307102\ttotal: 463ms\tremaining: 217ms\n",
      "581:\tlearn: 0.2306639\ttotal: 463ms\tremaining: 216ms\n",
      "582:\tlearn: 0.2305630\ttotal: 464ms\tremaining: 215ms\n",
      "583:\tlearn: 0.2304747\ttotal: 464ms\tremaining: 214ms\n",
      "584:\tlearn: 0.2302232\ttotal: 464ms\tremaining: 213ms\n",
      "585:\tlearn: 0.2301528\ttotal: 465ms\tremaining: 212ms\n",
      "586:\tlearn: 0.2300202\ttotal: 465ms\tremaining: 211ms\n",
      "587:\tlearn: 0.2298063\ttotal: 466ms\tremaining: 210ms\n",
      "588:\tlearn: 0.2296256\ttotal: 466ms\tremaining: 209ms\n",
      "589:\tlearn: 0.2295953\ttotal: 466ms\tremaining: 208ms\n",
      "590:\tlearn: 0.2294587\ttotal: 467ms\tremaining: 207ms\n",
      "591:\tlearn: 0.2292741\ttotal: 467ms\tremaining: 206ms\n",
      "592:\tlearn: 0.2291542\ttotal: 467ms\tremaining: 205ms\n",
      "593:\tlearn: 0.2290953\ttotal: 468ms\tremaining: 204ms\n",
      "594:\tlearn: 0.2288694\ttotal: 468ms\tremaining: 203ms\n",
      "595:\tlearn: 0.2286366\ttotal: 468ms\tremaining: 202ms\n",
      "596:\tlearn: 0.2283956\ttotal: 469ms\tremaining: 201ms\n",
      "597:\tlearn: 0.2283429\ttotal: 469ms\tremaining: 200ms\n",
      "598:\tlearn: 0.2281583\ttotal: 469ms\tremaining: 199ms\n",
      "599:\tlearn: 0.2280845\ttotal: 470ms\tremaining: 198ms\n",
      "600:\tlearn: 0.2279611\ttotal: 470ms\tremaining: 197ms\n",
      "601:\tlearn: 0.2278136\ttotal: 471ms\tremaining: 196ms\n",
      "602:\tlearn: 0.2276861\ttotal: 471ms\tremaining: 195ms\n",
      "603:\tlearn: 0.2275612\ttotal: 471ms\tremaining: 194ms\n",
      "604:\tlearn: 0.2274435\ttotal: 472ms\tremaining: 193ms\n",
      "605:\tlearn: 0.2274298\ttotal: 472ms\tremaining: 192ms\n",
      "606:\tlearn: 0.2273715\ttotal: 472ms\tremaining: 191ms\n",
      "607:\tlearn: 0.2273316\ttotal: 473ms\tremaining: 190ms\n",
      "608:\tlearn: 0.2271867\ttotal: 473ms\tremaining: 190ms\n",
      "609:\tlearn: 0.2270633\ttotal: 473ms\tremaining: 189ms\n",
      "610:\tlearn: 0.2269055\ttotal: 474ms\tremaining: 188ms\n",
      "611:\tlearn: 0.2268041\ttotal: 474ms\tremaining: 187ms\n",
      "612:\tlearn: 0.2267007\ttotal: 474ms\tremaining: 186ms\n",
      "613:\tlearn: 0.2265771\ttotal: 475ms\tremaining: 185ms\n",
      "614:\tlearn: 0.2265020\ttotal: 475ms\tremaining: 184ms\n",
      "615:\tlearn: 0.2264176\ttotal: 476ms\tremaining: 183ms\n",
      "616:\tlearn: 0.2263178\ttotal: 476ms\tremaining: 182ms\n",
      "617:\tlearn: 0.2261658\ttotal: 476ms\tremaining: 181ms\n",
      "618:\tlearn: 0.2260064\ttotal: 477ms\tremaining: 180ms\n",
      "619:\tlearn: 0.2258503\ttotal: 477ms\tremaining: 179ms\n",
      "620:\tlearn: 0.2257601\ttotal: 477ms\tremaining: 178ms\n"
     ]
    },
    {
     "name": "stdout",
     "output_type": "stream",
     "text": [
      "621:\tlearn: 0.2256032\ttotal: 478ms\tremaining: 178ms\n",
      "622:\tlearn: 0.2254572\ttotal: 479ms\tremaining: 177ms\n",
      "623:\tlearn: 0.2252942\ttotal: 480ms\tremaining: 176ms\n",
      "624:\tlearn: 0.2252161\ttotal: 481ms\tremaining: 175ms\n",
      "625:\tlearn: 0.2250109\ttotal: 482ms\tremaining: 175ms\n",
      "626:\tlearn: 0.2248284\ttotal: 482ms\tremaining: 174ms\n",
      "627:\tlearn: 0.2247405\ttotal: 483ms\tremaining: 173ms\n",
      "628:\tlearn: 0.2247056\ttotal: 483ms\tremaining: 172ms\n",
      "629:\tlearn: 0.2245549\ttotal: 484ms\tremaining: 171ms\n",
      "630:\tlearn: 0.2244503\ttotal: 484ms\tremaining: 170ms\n",
      "631:\tlearn: 0.2243431\ttotal: 484ms\tremaining: 169ms\n",
      "632:\tlearn: 0.2243212\ttotal: 485ms\tremaining: 168ms\n",
      "633:\tlearn: 0.2242639\ttotal: 485ms\tremaining: 168ms\n",
      "634:\tlearn: 0.2241096\ttotal: 486ms\tremaining: 167ms\n",
      "635:\tlearn: 0.2240046\ttotal: 486ms\tremaining: 166ms\n",
      "636:\tlearn: 0.2239066\ttotal: 486ms\tremaining: 165ms\n",
      "637:\tlearn: 0.2237900\ttotal: 487ms\tremaining: 164ms\n",
      "638:\tlearn: 0.2237477\ttotal: 487ms\tremaining: 163ms\n",
      "639:\tlearn: 0.2236367\ttotal: 488ms\tremaining: 162ms\n",
      "640:\tlearn: 0.2234543\ttotal: 488ms\tremaining: 161ms\n",
      "641:\tlearn: 0.2233109\ttotal: 488ms\tremaining: 160ms\n",
      "642:\tlearn: 0.2231659\ttotal: 489ms\tremaining: 160ms\n",
      "643:\tlearn: 0.2231137\ttotal: 489ms\tremaining: 159ms\n",
      "644:\tlearn: 0.2229768\ttotal: 490ms\tremaining: 158ms\n",
      "645:\tlearn: 0.2228678\ttotal: 490ms\tremaining: 157ms\n",
      "646:\tlearn: 0.2228297\ttotal: 490ms\tremaining: 156ms\n",
      "647:\tlearn: 0.2226824\ttotal: 491ms\tremaining: 155ms\n",
      "648:\tlearn: 0.2225765\ttotal: 491ms\tremaining: 154ms\n",
      "649:\tlearn: 0.2225568\ttotal: 492ms\tremaining: 154ms\n",
      "650:\tlearn: 0.2223609\ttotal: 492ms\tremaining: 153ms\n",
      "651:\tlearn: 0.2222209\ttotal: 493ms\tremaining: 152ms\n",
      "652:\tlearn: 0.2220467\ttotal: 493ms\tremaining: 151ms\n",
      "653:\tlearn: 0.2219538\ttotal: 494ms\tremaining: 150ms\n",
      "654:\tlearn: 0.2217929\ttotal: 495ms\tremaining: 150ms\n",
      "655:\tlearn: 0.2216019\ttotal: 496ms\tremaining: 149ms\n",
      "656:\tlearn: 0.2215318\ttotal: 496ms\tremaining: 148ms\n",
      "657:\tlearn: 0.2214056\ttotal: 497ms\tremaining: 147ms\n",
      "658:\tlearn: 0.2211899\ttotal: 497ms\tremaining: 146ms\n",
      "659:\tlearn: 0.2209574\ttotal: 498ms\tremaining: 146ms\n",
      "660:\tlearn: 0.2208185\ttotal: 498ms\tremaining: 145ms\n",
      "661:\tlearn: 0.2207377\ttotal: 498ms\tremaining: 144ms\n",
      "662:\tlearn: 0.2205255\ttotal: 499ms\tremaining: 143ms\n",
      "663:\tlearn: 0.2204398\ttotal: 499ms\tremaining: 142ms\n",
      "664:\tlearn: 0.2203022\ttotal: 500ms\tremaining: 141ms\n",
      "665:\tlearn: 0.2201013\ttotal: 500ms\tremaining: 140ms\n",
      "666:\tlearn: 0.2199241\ttotal: 501ms\tremaining: 140ms\n",
      "667:\tlearn: 0.2198400\ttotal: 501ms\tremaining: 139ms\n",
      "668:\tlearn: 0.2197168\ttotal: 501ms\tremaining: 138ms\n",
      "669:\tlearn: 0.2195549\ttotal: 502ms\tremaining: 137ms\n",
      "670:\tlearn: 0.2193997\ttotal: 502ms\tremaining: 136ms\n",
      "671:\tlearn: 0.2192761\ttotal: 503ms\tremaining: 135ms\n",
      "672:\tlearn: 0.2191431\ttotal: 503ms\tremaining: 135ms\n",
      "673:\tlearn: 0.2190651\ttotal: 503ms\tremaining: 134ms\n",
      "674:\tlearn: 0.2189586\ttotal: 504ms\tremaining: 133ms\n",
      "675:\tlearn: 0.2187903\ttotal: 504ms\tremaining: 132ms\n",
      "676:\tlearn: 0.2186529\ttotal: 505ms\tremaining: 131ms\n",
      "677:\tlearn: 0.2184649\ttotal: 505ms\tremaining: 130ms\n",
      "678:\tlearn: 0.2183341\ttotal: 505ms\tremaining: 130ms\n",
      "679:\tlearn: 0.2181848\ttotal: 506ms\tremaining: 129ms\n",
      "680:\tlearn: 0.2180252\ttotal: 506ms\tremaining: 128ms\n",
      "681:\tlearn: 0.2179257\ttotal: 507ms\tremaining: 127ms\n",
      "682:\tlearn: 0.2177848\ttotal: 507ms\tremaining: 126ms\n",
      "683:\tlearn: 0.2176553\ttotal: 508ms\tremaining: 125ms\n",
      "684:\tlearn: 0.2175422\ttotal: 508ms\tremaining: 125ms\n",
      "685:\tlearn: 0.2172641\ttotal: 509ms\tremaining: 124ms\n",
      "686:\tlearn: 0.2171472\ttotal: 510ms\tremaining: 123ms\n",
      "687:\tlearn: 0.2169750\ttotal: 510ms\tremaining: 122ms\n",
      "688:\tlearn: 0.2168773\ttotal: 511ms\tremaining: 122ms\n",
      "689:\tlearn: 0.2167564\ttotal: 511ms\tremaining: 121ms\n",
      "690:\tlearn: 0.2165862\ttotal: 512ms\tremaining: 120ms\n",
      "691:\tlearn: 0.2164750\ttotal: 512ms\tremaining: 119ms\n",
      "692:\tlearn: 0.2162488\ttotal: 513ms\tremaining: 118ms\n",
      "693:\tlearn: 0.2161276\ttotal: 513ms\tremaining: 118ms\n",
      "694:\tlearn: 0.2159178\ttotal: 513ms\tremaining: 117ms\n",
      "695:\tlearn: 0.2157703\ttotal: 514ms\tremaining: 116ms\n",
      "696:\tlearn: 0.2155843\ttotal: 514ms\tremaining: 115ms\n",
      "697:\tlearn: 0.2155237\ttotal: 514ms\tremaining: 114ms\n",
      "698:\tlearn: 0.2153830\ttotal: 515ms\tremaining: 113ms\n",
      "699:\tlearn: 0.2152423\ttotal: 515ms\tremaining: 113ms\n",
      "700:\tlearn: 0.2151962\ttotal: 515ms\tremaining: 112ms\n",
      "701:\tlearn: 0.2150743\ttotal: 516ms\tremaining: 111ms\n",
      "702:\tlearn: 0.2149754\ttotal: 516ms\tremaining: 110ms\n",
      "703:\tlearn: 0.2149103\ttotal: 517ms\tremaining: 109ms\n",
      "704:\tlearn: 0.2148426\ttotal: 517ms\tremaining: 109ms\n",
      "705:\tlearn: 0.2147570\ttotal: 517ms\tremaining: 108ms\n",
      "706:\tlearn: 0.2146658\ttotal: 518ms\tremaining: 107ms\n",
      "707:\tlearn: 0.2145919\ttotal: 518ms\tremaining: 106ms\n",
      "708:\tlearn: 0.2144668\ttotal: 519ms\tremaining: 105ms\n",
      "709:\tlearn: 0.2143142\ttotal: 519ms\tremaining: 105ms\n",
      "710:\tlearn: 0.2142720\ttotal: 519ms\tremaining: 104ms\n",
      "711:\tlearn: 0.2141543\ttotal: 520ms\tremaining: 103ms\n",
      "712:\tlearn: 0.2139501\ttotal: 520ms\tremaining: 102ms\n",
      "713:\tlearn: 0.2139192\ttotal: 520ms\tremaining: 101ms\n",
      "714:\tlearn: 0.2138576\ttotal: 521ms\tremaining: 100ms\n",
      "715:\tlearn: 0.2136825\ttotal: 521ms\tremaining: 99.7ms\n",
      "716:\tlearn: 0.2134669\ttotal: 521ms\tremaining: 98.9ms\n",
      "717:\tlearn: 0.2133568\ttotal: 522ms\tremaining: 98.1ms\n",
      "718:\tlearn: 0.2132620\ttotal: 522ms\tremaining: 97.3ms\n",
      "719:\tlearn: 0.2130963\ttotal: 523ms\tremaining: 96.5ms\n",
      "720:\tlearn: 0.2129197\ttotal: 523ms\tremaining: 95.7ms\n",
      "721:\tlearn: 0.2127481\ttotal: 523ms\tremaining: 94.9ms\n",
      "722:\tlearn: 0.2126664\ttotal: 524ms\tremaining: 94.1ms\n",
      "723:\tlearn: 0.2125702\ttotal: 524ms\tremaining: 93.4ms\n",
      "724:\tlearn: 0.2124879\ttotal: 524ms\tremaining: 92.6ms\n",
      "725:\tlearn: 0.2124291\ttotal: 525ms\tremaining: 91.8ms\n",
      "726:\tlearn: 0.2121404\ttotal: 525ms\tremaining: 91ms\n",
      "727:\tlearn: 0.2120532\ttotal: 525ms\tremaining: 90.2ms\n",
      "728:\tlearn: 0.2120186\ttotal: 526ms\tremaining: 89.4ms\n",
      "729:\tlearn: 0.2118229\ttotal: 526ms\tremaining: 88.6ms\n",
      "730:\tlearn: 0.2116629\ttotal: 526ms\tremaining: 87.9ms\n",
      "731:\tlearn: 0.2115115\ttotal: 527ms\tremaining: 87.1ms\n",
      "732:\tlearn: 0.2113809\ttotal: 527ms\tremaining: 86.3ms\n",
      "733:\tlearn: 0.2112546\ttotal: 527ms\tremaining: 85.5ms\n",
      "734:\tlearn: 0.2111874\ttotal: 528ms\tremaining: 84.7ms\n",
      "735:\tlearn: 0.2110125\ttotal: 528ms\tremaining: 84ms\n",
      "736:\tlearn: 0.2108705\ttotal: 529ms\tremaining: 83.2ms\n",
      "737:\tlearn: 0.2106799\ttotal: 529ms\tremaining: 82.4ms\n",
      "738:\tlearn: 0.2105743\ttotal: 529ms\tremaining: 81.6ms\n",
      "739:\tlearn: 0.2104013\ttotal: 530ms\tremaining: 80.9ms\n",
      "740:\tlearn: 0.2102922\ttotal: 530ms\tremaining: 80.1ms\n",
      "741:\tlearn: 0.2101340\ttotal: 530ms\tremaining: 79.4ms\n",
      "742:\tlearn: 0.2099326\ttotal: 531ms\tremaining: 78.6ms\n",
      "743:\tlearn: 0.2097537\ttotal: 531ms\tremaining: 77.8ms\n",
      "744:\tlearn: 0.2097150\ttotal: 532ms\tremaining: 77.1ms\n",
      "745:\tlearn: 0.2095859\ttotal: 532ms\tremaining: 76.3ms\n",
      "746:\tlearn: 0.2095689\ttotal: 532ms\tremaining: 75.5ms\n",
      "747:\tlearn: 0.2094257\ttotal: 533ms\tremaining: 74.8ms\n",
      "748:\tlearn: 0.2093372\ttotal: 533ms\tremaining: 74ms\n",
      "749:\tlearn: 0.2092363\ttotal: 534ms\tremaining: 73.3ms\n",
      "750:\tlearn: 0.2090465\ttotal: 534ms\tremaining: 72.5ms\n",
      "751:\tlearn: 0.2089658\ttotal: 534ms\tremaining: 71.8ms\n",
      "752:\tlearn: 0.2088838\ttotal: 535ms\tremaining: 71ms\n",
      "753:\tlearn: 0.2088267\ttotal: 535ms\tremaining: 70.3ms\n",
      "754:\tlearn: 0.2086406\ttotal: 536ms\tremaining: 69.5ms\n",
      "755:\tlearn: 0.2084205\ttotal: 536ms\tremaining: 68.8ms\n",
      "756:\tlearn: 0.2082870\ttotal: 536ms\tremaining: 68ms\n",
      "757:\tlearn: 0.2081460\ttotal: 537ms\tremaining: 67.3ms\n",
      "758:\tlearn: 0.2080336\ttotal: 537ms\tremaining: 66.5ms\n",
      "759:\tlearn: 0.2078912\ttotal: 537ms\tremaining: 65.8ms\n",
      "760:\tlearn: 0.2077420\ttotal: 538ms\tremaining: 65ms\n",
      "761:\tlearn: 0.2077183\ttotal: 538ms\tremaining: 64.3ms\n",
      "762:\tlearn: 0.2075672\ttotal: 539ms\tremaining: 63.5ms\n",
      "763:\tlearn: 0.2074751\ttotal: 539ms\tremaining: 62.8ms\n",
      "764:\tlearn: 0.2073742\ttotal: 539ms\tremaining: 62ms\n",
      "765:\tlearn: 0.2073429\ttotal: 540ms\tremaining: 61.3ms\n",
      "766:\tlearn: 0.2072424\ttotal: 540ms\tremaining: 60.5ms\n",
      "767:\tlearn: 0.2071591\ttotal: 540ms\tremaining: 59.8ms\n",
      "768:\tlearn: 0.2069562\ttotal: 541ms\tremaining: 59.1ms\n",
      "769:\tlearn: 0.2068024\ttotal: 541ms\tremaining: 58.3ms\n",
      "770:\tlearn: 0.2066167\ttotal: 541ms\tremaining: 57.6ms\n",
      "771:\tlearn: 0.2065067\ttotal: 542ms\tremaining: 56.8ms\n",
      "772:\tlearn: 0.2063397\ttotal: 542ms\tremaining: 56.1ms\n",
      "773:\tlearn: 0.2062091\ttotal: 542ms\tremaining: 55.4ms\n",
      "774:\tlearn: 0.2060734\ttotal: 543ms\tremaining: 54.6ms\n",
      "775:\tlearn: 0.2060144\ttotal: 543ms\tremaining: 53.9ms\n",
      "776:\tlearn: 0.2057221\ttotal: 543ms\tremaining: 53.2ms\n",
      "777:\tlearn: 0.2055867\ttotal: 544ms\tremaining: 52.4ms\n",
      "778:\tlearn: 0.2055500\ttotal: 544ms\tremaining: 51.7ms\n",
      "779:\tlearn: 0.2054650\ttotal: 545ms\tremaining: 51ms\n",
      "780:\tlearn: 0.2051774\ttotal: 545ms\tremaining: 50.2ms\n",
      "781:\tlearn: 0.2050413\ttotal: 545ms\tremaining: 49.5ms\n",
      "782:\tlearn: 0.2048775\ttotal: 546ms\tremaining: 48.8ms\n",
      "783:\tlearn: 0.2047990\ttotal: 546ms\tremaining: 48.1ms\n",
      "784:\tlearn: 0.2047202\ttotal: 546ms\tremaining: 47.3ms\n",
      "785:\tlearn: 0.2045416\ttotal: 547ms\tremaining: 46.6ms\n",
      "786:\tlearn: 0.2043893\ttotal: 547ms\tremaining: 45.9ms\n",
      "787:\tlearn: 0.2042495\ttotal: 547ms\tremaining: 45.2ms\n",
      "788:\tlearn: 0.2041542\ttotal: 548ms\tremaining: 44.4ms\n",
      "789:\tlearn: 0.2040752\ttotal: 548ms\tremaining: 43.7ms\n",
      "790:\tlearn: 0.2039866\ttotal: 549ms\tremaining: 43ms\n",
      "791:\tlearn: 0.2038358\ttotal: 549ms\tremaining: 42.3ms\n",
      "792:\tlearn: 0.2037034\ttotal: 549ms\tremaining: 41.6ms\n",
      "793:\tlearn: 0.2036086\ttotal: 550ms\tremaining: 40.8ms\n",
      "794:\tlearn: 0.2035151\ttotal: 550ms\tremaining: 40.1ms\n",
      "795:\tlearn: 0.2034197\ttotal: 550ms\tremaining: 39.4ms\n",
      "796:\tlearn: 0.2033996\ttotal: 551ms\tremaining: 38.7ms\n",
      "797:\tlearn: 0.2032796\ttotal: 551ms\tremaining: 38ms\n",
      "798:\tlearn: 0.2030911\ttotal: 551ms\tremaining: 37.3ms\n",
      "799:\tlearn: 0.2029157\ttotal: 552ms\tremaining: 36.6ms\n",
      "800:\tlearn: 0.2027371\ttotal: 552ms\tremaining: 35.8ms\n",
      "801:\tlearn: 0.2026956\ttotal: 553ms\tremaining: 35.1ms\n",
      "802:\tlearn: 0.2026039\ttotal: 553ms\tremaining: 34.4ms\n",
      "803:\tlearn: 0.2024321\ttotal: 553ms\tremaining: 33.7ms\n",
      "804:\tlearn: 0.2023313\ttotal: 554ms\tremaining: 33ms\n",
      "805:\tlearn: 0.2022137\ttotal: 554ms\tremaining: 32.3ms\n",
      "806:\tlearn: 0.2021841\ttotal: 554ms\tremaining: 31.6ms\n",
      "807:\tlearn: 0.2020445\ttotal: 555ms\tremaining: 30.9ms\n",
      "808:\tlearn: 0.2017225\ttotal: 555ms\tremaining: 30.2ms\n",
      "809:\tlearn: 0.2016171\ttotal: 555ms\tremaining: 29.5ms\n",
      "810:\tlearn: 0.2014957\ttotal: 556ms\tremaining: 28.8ms\n",
      "811:\tlearn: 0.2013893\ttotal: 556ms\tremaining: 28.1ms\n",
      "812:\tlearn: 0.2012964\ttotal: 557ms\tremaining: 27.4ms\n",
      "813:\tlearn: 0.2012491\ttotal: 557ms\tremaining: 26.7ms\n",
      "814:\tlearn: 0.2010571\ttotal: 557ms\tremaining: 26ms\n",
      "815:\tlearn: 0.2009826\ttotal: 558ms\tremaining: 25.3ms\n",
      "816:\tlearn: 0.2008378\ttotal: 558ms\tremaining: 24.6ms\n",
      "817:\tlearn: 0.2006847\ttotal: 558ms\tremaining: 23.9ms\n",
      "818:\tlearn: 0.2005898\ttotal: 559ms\tremaining: 23.2ms\n",
      "819:\tlearn: 0.2005579\ttotal: 559ms\tremaining: 22.5ms\n",
      "820:\tlearn: 0.2004156\ttotal: 560ms\tremaining: 21.8ms\n",
      "821:\tlearn: 0.2003248\ttotal: 560ms\tremaining: 21.1ms\n",
      "822:\tlearn: 0.2002282\ttotal: 560ms\tremaining: 20.4ms\n",
      "823:\tlearn: 0.2001493\ttotal: 561ms\tremaining: 19.7ms\n",
      "824:\tlearn: 0.2000187\ttotal: 561ms\tremaining: 19ms\n",
      "825:\tlearn: 0.1998905\ttotal: 562ms\tremaining: 18.4ms\n",
      "826:\tlearn: 0.1997013\ttotal: 562ms\tremaining: 17.7ms\n",
      "827:\tlearn: 0.1996656\ttotal: 562ms\tremaining: 17ms\n",
      "828:\tlearn: 0.1995661\ttotal: 563ms\tremaining: 16.3ms\n",
      "829:\tlearn: 0.1994775\ttotal: 563ms\tremaining: 15.6ms\n",
      "830:\tlearn: 0.1993797\ttotal: 563ms\tremaining: 14.9ms\n",
      "831:\tlearn: 0.1992928\ttotal: 564ms\tremaining: 14.2ms\n",
      "832:\tlearn: 0.1992123\ttotal: 564ms\tremaining: 13.5ms\n",
      "833:\tlearn: 0.1990864\ttotal: 565ms\tremaining: 12.9ms\n",
      "834:\tlearn: 0.1989628\ttotal: 565ms\tremaining: 12.2ms\n",
      "835:\tlearn: 0.1988278\ttotal: 565ms\tremaining: 11.5ms\n",
      "836:\tlearn: 0.1987404\ttotal: 566ms\tremaining: 10.8ms\n",
      "837:\tlearn: 0.1985555\ttotal: 566ms\tremaining: 10.1ms\n",
      "838:\tlearn: 0.1983708\ttotal: 567ms\tremaining: 9.46ms\n",
      "839:\tlearn: 0.1982736\ttotal: 567ms\tremaining: 8.78ms\n",
      "840:\tlearn: 0.1981945\ttotal: 567ms\tremaining: 8.1ms\n",
      "841:\tlearn: 0.1980790\ttotal: 568ms\tremaining: 7.42ms\n",
      "842:\tlearn: 0.1979465\ttotal: 568ms\tremaining: 6.74ms\n",
      "843:\tlearn: 0.1978134\ttotal: 569ms\tremaining: 6.06ms\n",
      "844:\tlearn: 0.1976317\ttotal: 569ms\tremaining: 5.38ms\n",
      "845:\tlearn: 0.1975151\ttotal: 569ms\tremaining: 4.71ms\n",
      "846:\tlearn: 0.1974298\ttotal: 570ms\tremaining: 4.04ms\n",
      "847:\tlearn: 0.1972921\ttotal: 570ms\tremaining: 3.36ms\n",
      "848:\tlearn: 0.1971896\ttotal: 570ms\tremaining: 2.69ms\n",
      "849:\tlearn: 0.1970590\ttotal: 571ms\tremaining: 2.01ms\n",
      "850:\tlearn: 0.1967964\ttotal: 571ms\tremaining: 1.34ms\n",
      "851:\tlearn: 0.1966764\ttotal: 572ms\tremaining: 670us\n",
      "852:\tlearn: 0.1965630\ttotal: 572ms\tremaining: 0us\n"
     ]
    },
    {
     "data": {
      "text/plain": [
       "<catboost.core.CatBoostClassifier at 0x7f050ca460f0>"
      ]
     },
     "execution_count": 28,
     "metadata": {},
     "output_type": "execute_result"
    }
   ],
   "source": [
    "from catboost import Pool, CatBoostClassifier\n",
    "classifier = CatBoostClassifier(\n",
    "    depth= 3, iterations= 853, learning_rate= 0.01\n",
    ")\n",
    "classifier.fit(X_train,y_train)"
   ]
  },
  {
   "cell_type": "code",
   "execution_count": 29,
   "metadata": {},
   "outputs": [],
   "source": [
    "y_pred=classifier.predict_proba(X_test)"
   ]
  },
  {
   "cell_type": "code",
   "execution_count": 30,
   "metadata": {},
   "outputs": [],
   "source": [
    "y_pred=pd.DataFrame(y_pred, index = X_test.index.copy())"
   ]
  },
  {
   "cell_type": "code",
   "execution_count": 31,
   "metadata": {
    "scrolled": true
   },
   "outputs": [
    {
     "name": "stdout",
     "output_type": "stream",
     "text": [
      "0.30185079327001735\n"
     ]
    }
   ],
   "source": [
    "#Accuracy\n",
    "from sklearn.metrics import log_loss\n",
    "print(log_loss(y_test,y_pred))"
   ]
  },
  {
   "cell_type": "markdown",
   "metadata": {},
   "source": [
    "Now since we know that for certain values the risk is going to be 1, we will make the probability of zero in those columns 0 and same for one."
   ]
  },
  {
   "cell_type": "code",
   "execution_count": 32,
   "metadata": {},
   "outputs": [],
   "source": [
    "X_test['zero']=y_pred[0]\n",
    "X_test[\"one\"]=y_pred[1]"
   ]
  },
  {
   "cell_type": "code",
   "execution_count": 33,
   "metadata": {},
   "outputs": [
    {
     "data": {
      "text/html": [
       "<div>\n",
       "<style scoped>\n",
       "    .dataframe tbody tr th:only-of-type {\n",
       "        vertical-align: middle;\n",
       "    }\n",
       "\n",
       "    .dataframe tbody tr th {\n",
       "        vertical-align: top;\n",
       "    }\n",
       "\n",
       "    .dataframe thead th {\n",
       "        text-align: right;\n",
       "    }\n",
       "</style>\n",
       "<table border=\"1\" class=\"dataframe\">\n",
       "  <thead>\n",
       "    <tr style=\"text-align: right;\">\n",
       "      <th></th>\n",
       "      <th>City</th>\n",
       "      <th>Location_Score</th>\n",
       "      <th>Internal_Audit_Score</th>\n",
       "      <th>External_Audit_Score</th>\n",
       "      <th>Fin_Score</th>\n",
       "      <th>Loss_score</th>\n",
       "      <th>Past_Results</th>\n",
       "      <th>fldif</th>\n",
       "      <th>zero</th>\n",
       "      <th>one</th>\n",
       "    </tr>\n",
       "  </thead>\n",
       "  <tbody>\n",
       "    <tr>\n",
       "      <th>103</th>\n",
       "      <td>2</td>\n",
       "      <td>64.536</td>\n",
       "      <td>6</td>\n",
       "      <td>4</td>\n",
       "      <td>7</td>\n",
       "      <td>5</td>\n",
       "      <td>0</td>\n",
       "      <td>2</td>\n",
       "      <td>0.885875</td>\n",
       "      <td>0.114125</td>\n",
       "    </tr>\n",
       "    <tr>\n",
       "      <th>179</th>\n",
       "      <td>9</td>\n",
       "      <td>75.588</td>\n",
       "      <td>5</td>\n",
       "      <td>5</td>\n",
       "      <td>8</td>\n",
       "      <td>4</td>\n",
       "      <td>0</td>\n",
       "      <td>4</td>\n",
       "      <td>0.921738</td>\n",
       "      <td>0.078262</td>\n",
       "    </tr>\n",
       "  </tbody>\n",
       "</table>\n",
       "</div>"
      ],
      "text/plain": [
       "     City  Location_Score  Internal_Audit_Score  External_Audit_Score  \\\n",
       "103     2          64.536                     6                     4   \n",
       "179     9          75.588                     5                     5   \n",
       "\n",
       "     Fin_Score  Loss_score  Past_Results  fldif      zero       one  \n",
       "103          7           5             0      2  0.885875  0.114125  \n",
       "179          8           4             0      4  0.921738  0.078262  "
      ]
     },
     "execution_count": 33,
     "metadata": {},
     "output_type": "execute_result"
    }
   ],
   "source": [
    "X_test.head(2)"
   ]
  },
  {
   "cell_type": "code",
   "execution_count": 34,
   "metadata": {},
   "outputs": [],
   "source": [
    "X_test['one'][X_test['Internal_Audit_Score' ]>8 ] = 1\n",
    "X_test['one'][X_test['Loss_score' ]>8 ] = 1\n",
    "X_test['one'][X_test['Fin_Score'] >8 ] = 1\n",
    "X_test['one'][X_test['External_Audit_Score'] >8 ] = 1\n",
    "X_test['one'][X_test['fldif' ]>5 ] = 1\n",
    "X_test['one'][X_test['Past_Results'] >1 ] = 1\n",
    "\n",
    "X_test['zero'][X_test['Internal_Audit_Score' ]>8 ] = 0\n",
    "X_test['zero'][X_test['Loss_score' ]>8 ] =0\n",
    "X_test['zero'][X_test['Fin_Score'] >8 ] = 0\n",
    "X_test['zero'][X_test['External_Audit_Score'] >8 ] = 0\n",
    "X_test['zero'][X_test['fldif' ]>5 ] = 0\n",
    "X_test['zero'][X_test['Past_Results'] >1 ] = 0\n"
   ]
  },
  {
   "cell_type": "code",
   "execution_count": 35,
   "metadata": {},
   "outputs": [],
   "source": [
    "y_pred[0]=X_test['zero']\n",
    "y_pred[1]=X_test['one']"
   ]
  },
  {
   "cell_type": "code",
   "execution_count": 36,
   "metadata": {},
   "outputs": [
    {
     "data": {
      "text/html": [
       "<div>\n",
       "<style scoped>\n",
       "    .dataframe tbody tr th:only-of-type {\n",
       "        vertical-align: middle;\n",
       "    }\n",
       "\n",
       "    .dataframe tbody tr th {\n",
       "        vertical-align: top;\n",
       "    }\n",
       "\n",
       "    .dataframe thead th {\n",
       "        text-align: right;\n",
       "    }\n",
       "</style>\n",
       "<table border=\"1\" class=\"dataframe\">\n",
       "  <thead>\n",
       "    <tr style=\"text-align: right;\">\n",
       "      <th></th>\n",
       "      <th>0</th>\n",
       "      <th>1</th>\n",
       "    </tr>\n",
       "  </thead>\n",
       "  <tbody>\n",
       "    <tr>\n",
       "      <th>103</th>\n",
       "      <td>0.885875</td>\n",
       "      <td>0.114125</td>\n",
       "    </tr>\n",
       "    <tr>\n",
       "      <th>179</th>\n",
       "      <td>0.921738</td>\n",
       "      <td>0.078262</td>\n",
       "    </tr>\n",
       "    <tr>\n",
       "      <th>474</th>\n",
       "      <td>0.432347</td>\n",
       "      <td>0.567653</td>\n",
       "    </tr>\n",
       "    <tr>\n",
       "      <th>345</th>\n",
       "      <td>0.878199</td>\n",
       "      <td>0.121801</td>\n",
       "    </tr>\n",
       "    <tr>\n",
       "      <th>132</th>\n",
       "      <td>0.000000</td>\n",
       "      <td>1.000000</td>\n",
       "    </tr>\n",
       "  </tbody>\n",
       "</table>\n",
       "</div>"
      ],
      "text/plain": [
       "            0         1\n",
       "103  0.885875  0.114125\n",
       "179  0.921738  0.078262\n",
       "474  0.432347  0.567653\n",
       "345  0.878199  0.121801\n",
       "132  0.000000  1.000000"
      ]
     },
     "execution_count": 36,
     "metadata": {},
     "output_type": "execute_result"
    }
   ],
   "source": [
    "y_pred.head()"
   ]
  },
  {
   "cell_type": "markdown",
   "metadata": {},
   "source": [
    "## Improved accuracy"
   ]
  },
  {
   "cell_type": "code",
   "execution_count": 37,
   "metadata": {},
   "outputs": [
    {
     "name": "stdout",
     "output_type": "stream",
     "text": [
      "0.28917656882637033\n"
     ]
    }
   ],
   "source": [
    "#Accuracy\n",
    "from sklearn.metrics import log_loss\n",
    "print(log_loss(y_test,y_pred))"
   ]
  },
  {
   "cell_type": "markdown",
   "metadata": {},
   "source": [
    "## Making submission for test set"
   ]
  },
  {
   "cell_type": "code",
   "execution_count": 38,
   "metadata": {},
   "outputs": [],
   "source": [
    "y_p=classifier.predict_proba(test)"
   ]
  },
  {
   "cell_type": "code",
   "execution_count": 39,
   "metadata": {},
   "outputs": [],
   "source": [
    "ans=y_p\n",
    "ans=pd.DataFrame(ans)\n"
   ]
  },
  {
   "cell_type": "code",
   "execution_count": 40,
   "metadata": {},
   "outputs": [],
   "source": [
    "test['zero']=ans[0]\n",
    "test[\"one\"]=ans[1]"
   ]
  },
  {
   "cell_type": "code",
   "execution_count": 41,
   "metadata": {},
   "outputs": [],
   "source": [
    "test['one'][test['Internal_Audit_Score' ]>8 ] = 1\n",
    "test['one'][test['Loss_score' ]>8 ] = 1\n",
    "test['one'][test['Fin_Score'] >8 ] = 1\n",
    "test['one'][test['External_Audit_Score'] >8 ] = 1\n",
    "test['one'][test['fldif' ]>5 ] = 1\n",
    "test['one'][test['Past_Results'] >1 ] = 1\n",
    "\n",
    "test['zero'][test['Internal_Audit_Score' ]>8 ] = 0\n",
    "test['zero'][test['Loss_score' ]>8 ] =0\n",
    "test['zero'][test['Fin_Score'] >8 ] = 0\n",
    "test['zero'][test['External_Audit_Score'] >8 ] = 0\n",
    "test['zero'][test['fldif' ]>5 ] = 0\n",
    "test['zero'][test['Past_Results'] >1 ] = 0\n"
   ]
  },
  {
   "cell_type": "code",
   "execution_count": 42,
   "metadata": {},
   "outputs": [],
   "source": [
    "ans[0]=test['zero']\n",
    "ans[1]=test['one']"
   ]
  },
  {
   "cell_type": "code",
   "execution_count": 43,
   "metadata": {},
   "outputs": [
    {
     "data": {
      "text/html": [
       "<div>\n",
       "<style scoped>\n",
       "    .dataframe tbody tr th:only-of-type {\n",
       "        vertical-align: middle;\n",
       "    }\n",
       "\n",
       "    .dataframe tbody tr th {\n",
       "        vertical-align: top;\n",
       "    }\n",
       "\n",
       "    .dataframe thead th {\n",
       "        text-align: right;\n",
       "    }\n",
       "</style>\n",
       "<table border=\"1\" class=\"dataframe\">\n",
       "  <thead>\n",
       "    <tr style=\"text-align: right;\">\n",
       "      <th></th>\n",
       "      <th>0</th>\n",
       "      <th>1</th>\n",
       "    </tr>\n",
       "  </thead>\n",
       "  <tbody>\n",
       "    <tr>\n",
       "      <th>0</th>\n",
       "      <td>0.000000</td>\n",
       "      <td>1.000000</td>\n",
       "    </tr>\n",
       "    <tr>\n",
       "      <th>1</th>\n",
       "      <td>0.000000</td>\n",
       "      <td>1.000000</td>\n",
       "    </tr>\n",
       "    <tr>\n",
       "      <th>2</th>\n",
       "      <td>0.894301</td>\n",
       "      <td>0.105699</td>\n",
       "    </tr>\n",
       "    <tr>\n",
       "      <th>3</th>\n",
       "      <td>0.000000</td>\n",
       "      <td>1.000000</td>\n",
       "    </tr>\n",
       "    <tr>\n",
       "      <th>4</th>\n",
       "      <td>0.225298</td>\n",
       "      <td>0.774702</td>\n",
       "    </tr>\n",
       "  </tbody>\n",
       "</table>\n",
       "</div>"
      ],
      "text/plain": [
       "          0         1\n",
       "0  0.000000  1.000000\n",
       "1  0.000000  1.000000\n",
       "2  0.894301  0.105699\n",
       "3  0.000000  1.000000\n",
       "4  0.225298  0.774702"
      ]
     },
     "execution_count": 43,
     "metadata": {},
     "output_type": "execute_result"
    }
   ],
   "source": [
    "ans.head()"
   ]
  },
  {
   "cell_type": "code",
   "execution_count": 44,
   "metadata": {},
   "outputs": [],
   "source": [
    "ans.to_excel('pakoda.xlsx',index=False)"
   ]
  }
 ],
 "metadata": {
  "kernelspec": {
   "display_name": "Python 3",
   "language": "python",
   "name": "python3"
  },
  "language_info": {
   "codemirror_mode": {
    "name": "ipython",
    "version": 3
   },
   "file_extension": ".py",
   "mimetype": "text/x-python",
   "name": "python",
   "nbconvert_exporter": "python",
   "pygments_lexer": "ipython3",
   "version": "3.6.9"
  }
 },
 "nbformat": 4,
 "nbformat_minor": 4
}
